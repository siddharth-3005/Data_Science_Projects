{
  "nbformat": 4,
  "nbformat_minor": 0,
  "metadata": {
    "colab": {
      "provenance": []
    },
    "kernelspec": {
      "name": "python3",
      "display_name": "Python 3"
    },
    "language_info": {
      "name": "python"
    }
  },
  "cells": [
    {
      "cell_type": "code",
      "execution_count": 1,
      "metadata": {
        "id": "u3cAflR7lqHy"
      },
      "outputs": [],
      "source": [
        "import tensorflow as tf\n",
        "from tensorflow.keras import models, layers\n",
        "import matplotlib.pyplot as plt"
      ]
    },
    {
      "cell_type": "code",
      "source": [
        "IMAGE_SIZE = 256\n",
        "BATCH_SIZE = 32\n",
        "CHANNELS = 3"
      ],
      "metadata": {
        "id": "3ICXVOaY41M4"
      },
      "execution_count": 2,
      "outputs": []
    },
    {
      "cell_type": "code",
      "source": [
        "dataset = tf.keras.preprocessing.image_dataset_from_directory('/content/drive/MyDrive/Plant_Village',shuffle = True,\n",
        "                                                              image_size = (IMAGE_SIZE, IMAGE_SIZE),\n",
        "                                                              batch_size = BATCH_SIZE)"
      ],
      "metadata": {
        "colab": {
          "base_uri": "https://localhost:8080/"
        },
        "id": "W8_oYqYi473h",
        "outputId": "68e8d2ab-9dcf-4774-e00c-c306259e9fda"
      },
      "execution_count": 3,
      "outputs": [
        {
          "output_type": "stream",
          "name": "stdout",
          "text": [
            "Found 2152 files belonging to 3 classes.\n"
          ]
        }
      ]
    },
    {
      "cell_type": "code",
      "source": [
        "class_names = dataset.class_names"
      ],
      "metadata": {
        "id": "IDaKyiBFJxyO"
      },
      "execution_count": 4,
      "outputs": []
    },
    {
      "cell_type": "code",
      "source": [
        "len(dataset) #you get 68 because it is taking batch of 32"
      ],
      "metadata": {
        "colab": {
          "base_uri": "https://localhost:8080/"
        },
        "id": "Z5a8lUDcKDoA",
        "outputId": "9a555a89-fd0d-4f25-c1b1-f43079d4e10f"
      },
      "execution_count": 5,
      "outputs": [
        {
          "output_type": "execute_result",
          "data": {
            "text/plain": [
              "68"
            ]
          },
          "metadata": {},
          "execution_count": 5
        }
      ]
    },
    {
      "cell_type": "code",
      "source": [
        "def get_dataset_partition(ds,train_split = 0.8, test_split = 0.1, val_split = 0.1 , shuffle = True, shuffle_size = 10000):\n",
        "  ds_size = len(ds)\n",
        "  if shuffle:\n",
        "    ds.shuffle(shuffle_size, seed = 12)\n",
        "\n",
        "  train_size = int(train_split*ds_size)\n",
        "  test_size = int(test_split*ds_size)\n",
        "\n",
        "  train_ds = ds.take(train_size)\n",
        "  val_ds = ds.skip(train_size).take(test_size)\n",
        "  test_ds = ds.skip(train_size).skip(test_size)\n",
        "\n",
        "  return train_ds, val_ds, test_ds\n"
      ],
      "metadata": {
        "id": "FpVdB0_qCdKd"
      },
      "execution_count": 6,
      "outputs": []
    },
    {
      "cell_type": "code",
      "source": [
        "train_ds, val_ds, test_ds = get_dataset_partition(dataset)"
      ],
      "metadata": {
        "id": "plMTNoXZCdE6"
      },
      "execution_count": 7,
      "outputs": []
    },
    {
      "cell_type": "code",
      "source": [
        "train_ds = train_ds.cache().shuffle(1000).prefetch(buffer_size=tf.data.AUTOTUNE)\n",
        "val_ds = val_ds.cache().shuffle(1000).prefetch(buffer_size=tf.data.AUTOTUNE)\n",
        "test_ds = test_ds.cache().shuffle(1000).prefetch(buffer_size=tf.data.AUTOTUNE)"
      ],
      "metadata": {
        "id": "1GkibD-6EXHI"
      },
      "execution_count": 8,
      "outputs": []
    },
    {
      "cell_type": "code",
      "source": [
        "resize_and_rescale = tf.keras.Sequential([\n",
        "  layers.experimental.preprocessing.Resizing(IMAGE_SIZE, IMAGE_SIZE),\n",
        "  layers.experimental.preprocessing.Rescaling(1./255),\n",
        "])"
      ],
      "metadata": {
        "id": "N9JEnhWuLnJ6"
      },
      "execution_count": 9,
      "outputs": []
    },
    {
      "cell_type": "code",
      "source": [
        "data_augmentation = tf.keras.Sequential([\n",
        "  layers.experimental.preprocessing.RandomFlip(\"horizontal_and_vertical\"),\n",
        "  layers.experimental.preprocessing.RandomRotation(0.2),\n",
        "])"
      ],
      "metadata": {
        "id": "wrB5f0ihLnHj"
      },
      "execution_count": 10,
      "outputs": []
    },
    {
      "cell_type": "code",
      "source": [
        "input_shape = (BATCH_SIZE, IMAGE_SIZE, IMAGE_SIZE, CHANNELS)\n",
        "n_classes = 3\n",
        "\n",
        "model = models.Sequential([\n",
        "    resize_and_rescale,\n",
        "    layers.Conv2D(32, kernel_size = (3,3), activation='relu', input_shape=input_shape),\n",
        "    layers.MaxPooling2D((2, 2)),\n",
        "    layers.Conv2D(64,  kernel_size = (3,3), activation='relu'),\n",
        "    layers.MaxPooling2D((2, 2)),\n",
        "    layers.Conv2D(64,  kernel_size = (3,3), activation='relu'),\n",
        "    layers.MaxPooling2D((2, 2)),\n",
        "    layers.Conv2D(64, (3, 3), activation='relu'),\n",
        "    layers.MaxPooling2D((2, 2)),\n",
        "    layers.Conv2D(64, (3, 3), activation='relu'),\n",
        "    layers.MaxPooling2D((2, 2)),\n",
        "    layers.Conv2D(64, (3, 3), activation='relu'),\n",
        "    layers.MaxPooling2D((2, 2)),\n",
        "    layers.Flatten(),\n",
        "    layers.Dense(64, activation='relu'),\n",
        "    layers.Dense(n_classes, activation='softmax'),\n",
        "])\n",
        "\n",
        "model.build(input_shape=input_shape)"
      ],
      "metadata": {
        "id": "wVHBdvxdN6HQ"
      },
      "execution_count": 11,
      "outputs": []
    },
    {
      "cell_type": "code",
      "source": [
        "model.compile(\n",
        "    optimizer='adam',\n",
        "    loss=tf.keras.losses.SparseCategoricalCrossentropy(from_logits=False),\n",
        "    metrics=['accuracy']\n",
        ")"
      ],
      "metadata": {
        "id": "IdW5Zh5EOCdI"
      },
      "execution_count": 12,
      "outputs": []
    },
    {
      "cell_type": "code",
      "source": [
        "history = model.fit(\n",
        "    train_ds,\n",
        "    batch_size=BATCH_SIZE,\n",
        "    validation_data=val_ds,\n",
        "    verbose=1,\n",
        "    epochs=10,\n",
        ")"
      ],
      "metadata": {
        "colab": {
          "base_uri": "https://localhost:8080/"
        },
        "id": "8LDdPZknOGJA",
        "outputId": "9435513e-c700-4a92-b797-f452071de07c"
      },
      "execution_count": 13,
      "outputs": [
        {
          "output_type": "stream",
          "name": "stdout",
          "text": [
            "Epoch 1/10\n",
            "54/54 [==============================] - 503s 5s/step - loss: 0.8761 - accuracy: 0.5359 - val_loss: 0.7634 - val_accuracy: 0.6510\n",
            "Epoch 2/10\n",
            "54/54 [==============================] - 243s 5s/step - loss: 0.5983 - accuracy: 0.7303 - val_loss: 0.6182 - val_accuracy: 0.7656\n",
            "Epoch 3/10\n",
            "54/54 [==============================] - 257s 5s/step - loss: 0.4347 - accuracy: 0.8137 - val_loss: 0.4851 - val_accuracy: 0.8073\n",
            "Epoch 4/10\n",
            "54/54 [==============================] - 250s 5s/step - loss: 0.3306 - accuracy: 0.8675 - val_loss: 0.2842 - val_accuracy: 0.8854\n",
            "Epoch 5/10\n",
            "54/54 [==============================] - 253s 5s/step - loss: 0.3019 - accuracy: 0.8692 - val_loss: 0.2941 - val_accuracy: 0.8958\n",
            "Epoch 6/10\n",
            "54/54 [==============================] - 249s 5s/step - loss: 0.2000 - accuracy: 0.9167 - val_loss: 0.1825 - val_accuracy: 0.9115\n",
            "Epoch 7/10\n",
            "54/54 [==============================] - 242s 4s/step - loss: 0.2172 - accuracy: 0.9120 - val_loss: 0.1542 - val_accuracy: 0.9219\n",
            "Epoch 8/10\n",
            "54/54 [==============================] - 256s 5s/step - loss: 0.1440 - accuracy: 0.9416 - val_loss: 0.1578 - val_accuracy: 0.9375\n",
            "Epoch 9/10\n",
            "54/54 [==============================] - 241s 4s/step - loss: 0.1284 - accuracy: 0.9462 - val_loss: 0.1546 - val_accuracy: 0.9479\n",
            "Epoch 10/10\n",
            "54/54 [==============================] - 254s 5s/step - loss: 0.1015 - accuracy: 0.9630 - val_loss: 0.1645 - val_accuracy: 0.9479\n"
          ]
        }
      ]
    },
    {
      "cell_type": "code",
      "source": [
        "scores = model.evaluate(test_ds)"
      ],
      "metadata": {
        "colab": {
          "base_uri": "https://localhost:8080/"
        },
        "id": "mH8VBTqpElje",
        "outputId": "1d98203c-af2c-49f9-ec4f-61b0cc5a1c4a"
      },
      "execution_count": 14,
      "outputs": [
        {
          "output_type": "stream",
          "name": "stdout",
          "text": [
            "8/8 [==============================] - 14s 985ms/step - loss: 0.1845 - accuracy: 0.9267\n"
          ]
        }
      ]
    },
    {
      "cell_type": "code",
      "source": [],
      "metadata": {
        "id": "fzfzlBw8ElhO"
      },
      "execution_count": 14,
      "outputs": []
    },
    {
      "cell_type": "code",
      "source": [],
      "metadata": {
        "id": "S5EHt9wkEldP"
      },
      "execution_count": 14,
      "outputs": []
    }
  ]
}