{
 "cells": [
  {
   "cell_type": "code",
   "execution_count": 1,
   "id": "83f8b3db",
   "metadata": {},
   "outputs": [],
   "source": [
    "import numpy as np\n",
    "import pandas as pd\n",
    "import seaborn as sns\n",
    "import matplotlib.pyplot as plt\n",
    "from sklearn.preprocessing import LabelEncoder\n",
    "from sklearn.tree import DecisionTreeClassifier\n",
    "from sklearn.ensemble import RandomForestClassifier\n",
    "from sklearn.model_selection import train_test_split, GridSearchCV\n",
    "import warnings\n",
    "warnings.filterwarnings('ignore')\n",
    "from sklearn.metrics import classification_report"
   ]
  },
  {
   "cell_type": "code",
   "execution_count": 2,
   "id": "35b293d8",
   "metadata": {},
   "outputs": [],
   "source": [
    "df = pd.read_csv('healthcare.csv')"
   ]
  },
  {
   "cell_type": "code",
   "execution_count": 3,
   "id": "1f740140",
   "metadata": {},
   "outputs": [
    {
     "data": {
      "text/html": [
       "<div>\n",
       "<style scoped>\n",
       "    .dataframe tbody tr th:only-of-type {\n",
       "        vertical-align: middle;\n",
       "    }\n",
       "\n",
       "    .dataframe tbody tr th {\n",
       "        vertical-align: top;\n",
       "    }\n",
       "\n",
       "    .dataframe thead th {\n",
       "        text-align: right;\n",
       "    }\n",
       "</style>\n",
       "<table border=\"1\" class=\"dataframe\">\n",
       "  <thead>\n",
       "    <tr style=\"text-align: right;\">\n",
       "      <th></th>\n",
       "      <th>case_id</th>\n",
       "      <th>Hospital_code</th>\n",
       "      <th>Hospital_type_code</th>\n",
       "      <th>City_Code_Hospital</th>\n",
       "      <th>Hospital_region_code</th>\n",
       "      <th>Available Extra Rooms in Hospital</th>\n",
       "      <th>Department</th>\n",
       "      <th>Ward_Type</th>\n",
       "      <th>Ward_Facility_Code</th>\n",
       "      <th>Bed Grade</th>\n",
       "      <th>patientid</th>\n",
       "      <th>City_Code_Patient</th>\n",
       "      <th>Type of Admission</th>\n",
       "      <th>Severity of Illness</th>\n",
       "      <th>Visitors with Patient</th>\n",
       "      <th>Age</th>\n",
       "      <th>Admission_Deposit</th>\n",
       "      <th>Stay</th>\n",
       "    </tr>\n",
       "  </thead>\n",
       "  <tbody>\n",
       "    <tr>\n",
       "      <th>0</th>\n",
       "      <td>1</td>\n",
       "      <td>8</td>\n",
       "      <td>c</td>\n",
       "      <td>3</td>\n",
       "      <td>Z</td>\n",
       "      <td>3</td>\n",
       "      <td>radiotherapy</td>\n",
       "      <td>R</td>\n",
       "      <td>F</td>\n",
       "      <td>2.0</td>\n",
       "      <td>31397</td>\n",
       "      <td>7.0</td>\n",
       "      <td>Emergency</td>\n",
       "      <td>Extreme</td>\n",
       "      <td>2</td>\n",
       "      <td>51-60</td>\n",
       "      <td>4911</td>\n",
       "      <td>0-10</td>\n",
       "    </tr>\n",
       "    <tr>\n",
       "      <th>1</th>\n",
       "      <td>2</td>\n",
       "      <td>2</td>\n",
       "      <td>c</td>\n",
       "      <td>5</td>\n",
       "      <td>Z</td>\n",
       "      <td>2</td>\n",
       "      <td>radiotherapy</td>\n",
       "      <td>S</td>\n",
       "      <td>F</td>\n",
       "      <td>2.0</td>\n",
       "      <td>31397</td>\n",
       "      <td>7.0</td>\n",
       "      <td>Trauma</td>\n",
       "      <td>Extreme</td>\n",
       "      <td>2</td>\n",
       "      <td>51-60</td>\n",
       "      <td>5954</td>\n",
       "      <td>41-50</td>\n",
       "    </tr>\n",
       "    <tr>\n",
       "      <th>2</th>\n",
       "      <td>3</td>\n",
       "      <td>10</td>\n",
       "      <td>e</td>\n",
       "      <td>1</td>\n",
       "      <td>X</td>\n",
       "      <td>2</td>\n",
       "      <td>anesthesia</td>\n",
       "      <td>S</td>\n",
       "      <td>E</td>\n",
       "      <td>2.0</td>\n",
       "      <td>31397</td>\n",
       "      <td>7.0</td>\n",
       "      <td>Trauma</td>\n",
       "      <td>Extreme</td>\n",
       "      <td>2</td>\n",
       "      <td>51-60</td>\n",
       "      <td>4745</td>\n",
       "      <td>31-40</td>\n",
       "    </tr>\n",
       "    <tr>\n",
       "      <th>3</th>\n",
       "      <td>4</td>\n",
       "      <td>26</td>\n",
       "      <td>b</td>\n",
       "      <td>2</td>\n",
       "      <td>Y</td>\n",
       "      <td>2</td>\n",
       "      <td>radiotherapy</td>\n",
       "      <td>R</td>\n",
       "      <td>D</td>\n",
       "      <td>2.0</td>\n",
       "      <td>31397</td>\n",
       "      <td>7.0</td>\n",
       "      <td>Trauma</td>\n",
       "      <td>Extreme</td>\n",
       "      <td>2</td>\n",
       "      <td>51-60</td>\n",
       "      <td>7272</td>\n",
       "      <td>41-50</td>\n",
       "    </tr>\n",
       "    <tr>\n",
       "      <th>4</th>\n",
       "      <td>5</td>\n",
       "      <td>26</td>\n",
       "      <td>b</td>\n",
       "      <td>2</td>\n",
       "      <td>Y</td>\n",
       "      <td>2</td>\n",
       "      <td>radiotherapy</td>\n",
       "      <td>S</td>\n",
       "      <td>D</td>\n",
       "      <td>2.0</td>\n",
       "      <td>31397</td>\n",
       "      <td>7.0</td>\n",
       "      <td>Trauma</td>\n",
       "      <td>Extreme</td>\n",
       "      <td>2</td>\n",
       "      <td>51-60</td>\n",
       "      <td>5558</td>\n",
       "      <td>41-50</td>\n",
       "    </tr>\n",
       "  </tbody>\n",
       "</table>\n",
       "</div>"
      ],
      "text/plain": [
       "   case_id  Hospital_code Hospital_type_code  City_Code_Hospital  \\\n",
       "0        1              8                  c                   3   \n",
       "1        2              2                  c                   5   \n",
       "2        3             10                  e                   1   \n",
       "3        4             26                  b                   2   \n",
       "4        5             26                  b                   2   \n",
       "\n",
       "  Hospital_region_code  Available Extra Rooms in Hospital    Department  \\\n",
       "0                    Z                                  3  radiotherapy   \n",
       "1                    Z                                  2  radiotherapy   \n",
       "2                    X                                  2    anesthesia   \n",
       "3                    Y                                  2  radiotherapy   \n",
       "4                    Y                                  2  radiotherapy   \n",
       "\n",
       "  Ward_Type Ward_Facility_Code  Bed Grade  patientid  City_Code_Patient  \\\n",
       "0         R                  F        2.0      31397                7.0   \n",
       "1         S                  F        2.0      31397                7.0   \n",
       "2         S                  E        2.0      31397                7.0   \n",
       "3         R                  D        2.0      31397                7.0   \n",
       "4         S                  D        2.0      31397                7.0   \n",
       "\n",
       "  Type of Admission Severity of Illness  Visitors with Patient    Age  \\\n",
       "0         Emergency             Extreme                      2  51-60   \n",
       "1            Trauma             Extreme                      2  51-60   \n",
       "2            Trauma             Extreme                      2  51-60   \n",
       "3            Trauma             Extreme                      2  51-60   \n",
       "4            Trauma             Extreme                      2  51-60   \n",
       "\n",
       "   Admission_Deposit   Stay  \n",
       "0               4911   0-10  \n",
       "1               5954  41-50  \n",
       "2               4745  31-40  \n",
       "3               7272  41-50  \n",
       "4               5558  41-50  "
      ]
     },
     "execution_count": 3,
     "metadata": {},
     "output_type": "execute_result"
    }
   ],
   "source": [
    "df.head()"
   ]
  },
  {
   "cell_type": "code",
   "execution_count": 4,
   "id": "09d500d0",
   "metadata": {},
   "outputs": [],
   "source": [
    "data_description = pd.read_csv('train_data_dictionary.csv')"
   ]
  },
  {
   "cell_type": "code",
   "execution_count": 5,
   "id": "2e1e437d",
   "metadata": {},
   "outputs": [
    {
     "data": {
      "text/html": [
       "<div>\n",
       "<style scoped>\n",
       "    .dataframe tbody tr th:only-of-type {\n",
       "        vertical-align: middle;\n",
       "    }\n",
       "\n",
       "    .dataframe tbody tr th {\n",
       "        vertical-align: top;\n",
       "    }\n",
       "\n",
       "    .dataframe thead th {\n",
       "        text-align: right;\n",
       "    }\n",
       "</style>\n",
       "<table border=\"1\" class=\"dataframe\">\n",
       "  <thead>\n",
       "    <tr style=\"text-align: right;\">\n",
       "      <th></th>\n",
       "      <th>Column</th>\n",
       "      <th>Description</th>\n",
       "    </tr>\n",
       "  </thead>\n",
       "  <tbody>\n",
       "    <tr>\n",
       "      <th>0</th>\n",
       "      <td>case_id</td>\n",
       "      <td>Case_ID registered in Hospital</td>\n",
       "    </tr>\n",
       "    <tr>\n",
       "      <th>1</th>\n",
       "      <td>Hospital_code</td>\n",
       "      <td>Unique code for the Hospital</td>\n",
       "    </tr>\n",
       "    <tr>\n",
       "      <th>2</th>\n",
       "      <td>Hospital_type_code</td>\n",
       "      <td>Unique code for the type of Hospital</td>\n",
       "    </tr>\n",
       "    <tr>\n",
       "      <th>3</th>\n",
       "      <td>City_Code_Hospital</td>\n",
       "      <td>City Code of the Hospital</td>\n",
       "    </tr>\n",
       "    <tr>\n",
       "      <th>4</th>\n",
       "      <td>Hospital_region_code</td>\n",
       "      <td>Region Code of the Hospital</td>\n",
       "    </tr>\n",
       "    <tr>\n",
       "      <th>5</th>\n",
       "      <td>Available Extra Rooms in Hospital</td>\n",
       "      <td>Number of Extra rooms available in the Hospital</td>\n",
       "    </tr>\n",
       "    <tr>\n",
       "      <th>6</th>\n",
       "      <td>Department</td>\n",
       "      <td>Department overlooking the case</td>\n",
       "    </tr>\n",
       "    <tr>\n",
       "      <th>7</th>\n",
       "      <td>Ward_Type</td>\n",
       "      <td>Code for the Ward type</td>\n",
       "    </tr>\n",
       "    <tr>\n",
       "      <th>8</th>\n",
       "      <td>Ward_Facility_Code</td>\n",
       "      <td>Code for the Ward Facility</td>\n",
       "    </tr>\n",
       "    <tr>\n",
       "      <th>9</th>\n",
       "      <td>Bed Grade</td>\n",
       "      <td>Condition of Bed in the Ward</td>\n",
       "    </tr>\n",
       "    <tr>\n",
       "      <th>10</th>\n",
       "      <td>patientid</td>\n",
       "      <td>Unique Patient Id</td>\n",
       "    </tr>\n",
       "    <tr>\n",
       "      <th>11</th>\n",
       "      <td>City_Code_Patient</td>\n",
       "      <td>City Code for the patient</td>\n",
       "    </tr>\n",
       "    <tr>\n",
       "      <th>12</th>\n",
       "      <td>Type of Admission</td>\n",
       "      <td>Admission Type registered by the Hospital</td>\n",
       "    </tr>\n",
       "    <tr>\n",
       "      <th>13</th>\n",
       "      <td>Severity of Illness</td>\n",
       "      <td>Severity of the illness recorded at the time o...</td>\n",
       "    </tr>\n",
       "    <tr>\n",
       "      <th>14</th>\n",
       "      <td>Visitors with Patient</td>\n",
       "      <td>Number of Visitors with the patient</td>\n",
       "    </tr>\n",
       "    <tr>\n",
       "      <th>15</th>\n",
       "      <td>Age</td>\n",
       "      <td>Age of the patient</td>\n",
       "    </tr>\n",
       "    <tr>\n",
       "      <th>16</th>\n",
       "      <td>Admission_Deposit</td>\n",
       "      <td>Deposit at the Admission Time</td>\n",
       "    </tr>\n",
       "    <tr>\n",
       "      <th>17</th>\n",
       "      <td>Stay</td>\n",
       "      <td>Stay Days by the patient</td>\n",
       "    </tr>\n",
       "  </tbody>\n",
       "</table>\n",
       "</div>"
      ],
      "text/plain": [
       "                               Column  \\\n",
       "0                             case_id   \n",
       "1                       Hospital_code   \n",
       "2                  Hospital_type_code   \n",
       "3                  City_Code_Hospital   \n",
       "4                Hospital_region_code   \n",
       "5   Available Extra Rooms in Hospital   \n",
       "6                          Department   \n",
       "7                           Ward_Type   \n",
       "8                  Ward_Facility_Code   \n",
       "9                           Bed Grade   \n",
       "10                          patientid   \n",
       "11                  City_Code_Patient   \n",
       "12                  Type of Admission   \n",
       "13                Severity of Illness   \n",
       "14              Visitors with Patient   \n",
       "15                                Age   \n",
       "16                  Admission_Deposit   \n",
       "17                               Stay   \n",
       "\n",
       "                                          Description  \n",
       "0                      Case_ID registered in Hospital  \n",
       "1                        Unique code for the Hospital  \n",
       "2                Unique code for the type of Hospital  \n",
       "3                           City Code of the Hospital  \n",
       "4                         Region Code of the Hospital  \n",
       "5     Number of Extra rooms available in the Hospital  \n",
       "6                     Department overlooking the case  \n",
       "7                              Code for the Ward type  \n",
       "8                          Code for the Ward Facility  \n",
       "9                        Condition of Bed in the Ward  \n",
       "10                                  Unique Patient Id  \n",
       "11                          City Code for the patient  \n",
       "12          Admission Type registered by the Hospital  \n",
       "13  Severity of the illness recorded at the time o...  \n",
       "14                Number of Visitors with the patient  \n",
       "15                                 Age of the patient  \n",
       "16                      Deposit at the Admission Time  \n",
       "17                           Stay Days by the patient  "
      ]
     },
     "execution_count": 5,
     "metadata": {},
     "output_type": "execute_result"
    }
   ],
   "source": [
    "data_description"
   ]
  },
  {
   "cell_type": "code",
   "execution_count": 6,
   "id": "0b8bf00b",
   "metadata": {},
   "outputs": [
    {
     "data": {
      "text/plain": [
       "(318438, 18)"
      ]
     },
     "execution_count": 6,
     "metadata": {},
     "output_type": "execute_result"
    }
   ],
   "source": [
    "df.shape"
   ]
  },
  {
   "cell_type": "code",
   "execution_count": 7,
   "id": "b7757257",
   "metadata": {},
   "outputs": [
    {
     "data": {
      "text/plain": [
       "case_id                                int64\n",
       "Hospital_code                          int64\n",
       "Hospital_type_code                    object\n",
       "City_Code_Hospital                     int64\n",
       "Hospital_region_code                  object\n",
       "Available Extra Rooms in Hospital      int64\n",
       "Department                            object\n",
       "Ward_Type                             object\n",
       "Ward_Facility_Code                    object\n",
       "Bed Grade                            float64\n",
       "patientid                              int64\n",
       "City_Code_Patient                    float64\n",
       "Type of Admission                     object\n",
       "Severity of Illness                   object\n",
       "Visitors with Patient                  int64\n",
       "Age                                   object\n",
       "Admission_Deposit                      int64\n",
       "Stay                                  object\n",
       "dtype: object"
      ]
     },
     "execution_count": 7,
     "metadata": {},
     "output_type": "execute_result"
    }
   ],
   "source": [
    "df.dtypes"
   ]
  },
  {
   "cell_type": "code",
   "execution_count": 8,
   "id": "ddd54455",
   "metadata": {},
   "outputs": [
    {
     "data": {
      "text/plain": [
       "case_id                                 0\n",
       "Hospital_code                           0\n",
       "Hospital_type_code                      0\n",
       "City_Code_Hospital                      0\n",
       "Hospital_region_code                    0\n",
       "Available Extra Rooms in Hospital       0\n",
       "Department                              0\n",
       "Ward_Type                               0\n",
       "Ward_Facility_Code                      0\n",
       "Bed Grade                             113\n",
       "patientid                               0\n",
       "City_Code_Patient                    4532\n",
       "Type of Admission                       0\n",
       "Severity of Illness                     0\n",
       "Visitors with Patient                   0\n",
       "Age                                     0\n",
       "Admission_Deposit                       0\n",
       "Stay                                    0\n",
       "dtype: int64"
      ]
     },
     "execution_count": 8,
     "metadata": {},
     "output_type": "execute_result"
    }
   ],
   "source": [
    "df.isnull().sum()"
   ]
  },
  {
   "cell_type": "code",
   "execution_count": 9,
   "id": "796a5b6a",
   "metadata": {},
   "outputs": [
    {
     "data": {
      "text/plain": [
       "92017"
      ]
     },
     "execution_count": 9,
     "metadata": {},
     "output_type": "execute_result"
    }
   ],
   "source": [
    "len(df['patientid'].unique()) # number of patients"
   ]
  },
  {
   "cell_type": "code",
   "execution_count": 10,
   "id": "b645cd8d",
   "metadata": {},
   "outputs": [
    {
     "data": {
      "text/plain": [
       "32"
      ]
     },
     "execution_count": 10,
     "metadata": {},
     "output_type": "execute_result"
    }
   ],
   "source": [
    "len(df['Hospital_code'].unique()) # number of hospitals"
   ]
  },
  {
   "cell_type": "code",
   "execution_count": 11,
   "id": "38c4fb78",
   "metadata": {},
   "outputs": [],
   "source": [
    "df['Bed Grade'].fillna(df['Bed Grade'].mode()[0],inplace = True)"
   ]
  },
  {
   "cell_type": "code",
   "execution_count": 12,
   "id": "5e7184c5",
   "metadata": {},
   "outputs": [],
   "source": [
    "df['City_Code_Patient'].fillna(df['City_Code_Patient'].mode()[0],inplace = True)"
   ]
  },
  {
   "cell_type": "code",
   "execution_count": 13,
   "id": "f17d0398",
   "metadata": {},
   "outputs": [
    {
     "data": {
      "text/plain": [
       "case_id                              0\n",
       "Hospital_code                        0\n",
       "Hospital_type_code                   0\n",
       "City_Code_Hospital                   0\n",
       "Hospital_region_code                 0\n",
       "Available Extra Rooms in Hospital    0\n",
       "Department                           0\n",
       "Ward_Type                            0\n",
       "Ward_Facility_Code                   0\n",
       "Bed Grade                            0\n",
       "patientid                            0\n",
       "City_Code_Patient                    0\n",
       "Type of Admission                    0\n",
       "Severity of Illness                  0\n",
       "Visitors with Patient                0\n",
       "Age                                  0\n",
       "Admission_Deposit                    0\n",
       "Stay                                 0\n",
       "dtype: int64"
      ]
     },
     "execution_count": 13,
     "metadata": {},
     "output_type": "execute_result"
    }
   ],
   "source": [
    "df.isnull().sum()"
   ]
  },
  {
   "cell_type": "code",
   "execution_count": 14,
   "id": "c1f04921",
   "metadata": {},
   "outputs": [
    {
     "data": {
      "text/plain": [
       "21-30                 87491\n",
       "Nov-20                78139\n",
       "31-40                 55159\n",
       "51-60                 35018\n",
       "0-10                  23604\n",
       "41-50                 11743\n",
       "71-80                 10254\n",
       "More than 100 Days     6683\n",
       "81-90                  4838\n",
       "91-100                 2765\n",
       "61-70                  2744\n",
       "Name: Stay, dtype: int64"
      ]
     },
     "execution_count": 14,
     "metadata": {},
     "output_type": "execute_result"
    }
   ],
   "source": [
    "df['Stay'].value_counts()"
   ]
  },
  {
   "cell_type": "code",
   "execution_count": 15,
   "id": "f066a926",
   "metadata": {},
   "outputs": [
    {
     "data": {
      "text/plain": [
       "<AxesSubplot:>"
      ]
     },
     "execution_count": 15,
     "metadata": {},
     "output_type": "execute_result"
    },
    {
     "data": {
      "image/png": "[encoded data removed]",
      "text/plain": [
       "<Figure size 640x480 with 1 Axes>"
      ]
     },
     "metadata": {},
     "output_type": "display_data"
    }
   ],
   "source": [
    "df['Stay'].value_counts().plot(kind = 'bar')"
   ]
  },
  {
   "cell_type": "code",
   "execution_count": 16,
   "id": "f5594eab",
   "metadata": {},
   "outputs": [],
   "source": [
    "df['Stay'].replace({'More than 100 Days':'>100','Nov-20':'11-20'},inplace = True)"
   ]
  },
  {
   "cell_type": "code",
   "execution_count": 17,
   "id": "b6a74049",
   "metadata": {},
   "outputs": [],
   "source": [
    "df['Age'].replace({'Nov-20':'11-20'},inplace = True)"
   ]
  },
  {
   "cell_type": "code",
   "execution_count": 18,
   "id": "f89a061e",
   "metadata": {},
   "outputs": [
    {
     "data": {
      "text/plain": [
       "<AxesSubplot:>"
      ]
     },
     "execution_count": 18,
     "metadata": {},
     "output_type": "execute_result"
    },
    {
     "data": {
      "image/png": "[encoded data removed]",
      "text/plain": [
       "<Figure size 640x480 with 1 Axes>"
      ]
     },
     "metadata": {},
     "output_type": "display_data"
    }
   ],
   "source": [
    "df['Stay'].value_counts().plot(kind = 'bar')"
   ]
  },
  {
   "cell_type": "code",
   "execution_count": 19,
   "id": "ac22790b",
   "metadata": {},
   "outputs": [],
   "source": [
    "#Department, type of admission, #severity of illness, age against stay"
   ]
  },
  {
   "cell_type": "code",
   "execution_count": 20,
   "id": "d641cc8e",
   "metadata": {},
   "outputs": [],
   "source": [
    "init_analysis = df[['Department','Type of Admission','Severity of Illness','Age']].columns.to_list()"
   ]
  },
  {
   "cell_type": "code",
   "execution_count": 21,
   "id": "b1e28ad5",
   "metadata": {},
   "outputs": [
    {
     "data": {
      "image/png": "[encoded data removed]",
      "text/plain": [
       "<Figure size 2000x2000 with 4 Axes>"
      ]
     },
     "metadata": {},
     "output_type": "display_data"
    }
   ],
   "source": [
    "fig,ax = plt.subplots(2,2,figsize = (20,20))\n",
    "for i,j in zip(init_analysis,ax.flatten()):\n",
    "    sns.countplot(df[i],ax = j)\n",
    "plt.show()"
   ]
  },
  {
   "cell_type": "code",
   "execution_count": 94,
   "id": "a8a51016",
   "metadata": {},
   "outputs": [
    {
     "data": {
      "image/png": "[encoded data removed]",
      "text/plain": [
       "<Figure size 2000x2000 with 4 Axes>"
      ]
     },
     "metadata": {},
     "output_type": "display_data"
    }
   ],
   "source": [
    "fig,ax = plt.subplots(2,2,figsize = (20,20))\n",
    "for i,j in zip(init_analysis,ax.flatten()):\n",
    "    pd.crosstab(df[i],df['Stay']).plot(kind = 'bar',ax = j)\n",
    "plt.show()"
   ]
  },
  {
   "cell_type": "code",
   "execution_count": 24,
   "id": "8662174a",
   "metadata": {},
   "outputs": [
    {
     "data": {
      "text/html": [
       "<div>\n",
       "<style scoped>\n",
       "    .dataframe tbody tr th:only-of-type {\n",
       "        vertical-align: middle;\n",
       "    }\n",
       "\n",
       "    .dataframe tbody tr th {\n",
       "        vertical-align: top;\n",
       "    }\n",
       "\n",
       "    .dataframe thead th {\n",
       "        text-align: right;\n",
       "    }\n",
       "</style>\n",
       "<table border=\"1\" class=\"dataframe\">\n",
       "  <thead>\n",
       "    <tr style=\"text-align: right;\">\n",
       "      <th></th>\n",
       "      <th>case_id</th>\n",
       "      <th>Hospital_code</th>\n",
       "      <th>Hospital_type_code</th>\n",
       "      <th>City_Code_Hospital</th>\n",
       "      <th>Hospital_region_code</th>\n",
       "      <th>Available Extra Rooms in Hospital</th>\n",
       "      <th>Department</th>\n",
       "      <th>Ward_Type</th>\n",
       "      <th>Ward_Facility_Code</th>\n",
       "      <th>Bed Grade</th>\n",
       "      <th>patientid</th>\n",
       "      <th>City_Code_Patient</th>\n",
       "      <th>Type of Admission</th>\n",
       "      <th>Severity of Illness</th>\n",
       "      <th>Visitors with Patient</th>\n",
       "      <th>Age</th>\n",
       "      <th>Admission_Deposit</th>\n",
       "      <th>Stay</th>\n",
       "    </tr>\n",
       "  </thead>\n",
       "  <tbody>\n",
       "    <tr>\n",
       "      <th>0</th>\n",
       "      <td>1</td>\n",
       "      <td>8</td>\n",
       "      <td>c</td>\n",
       "      <td>3</td>\n",
       "      <td>Z</td>\n",
       "      <td>3</td>\n",
       "      <td>radiotherapy</td>\n",
       "      <td>R</td>\n",
       "      <td>F</td>\n",
       "      <td>2.0</td>\n",
       "      <td>31397</td>\n",
       "      <td>7.0</td>\n",
       "      <td>Emergency</td>\n",
       "      <td>Extreme</td>\n",
       "      <td>2</td>\n",
       "      <td>51-60</td>\n",
       "      <td>4911</td>\n",
       "      <td>0-10</td>\n",
       "    </tr>\n",
       "    <tr>\n",
       "      <th>1</th>\n",
       "      <td>2</td>\n",
       "      <td>2</td>\n",
       "      <td>c</td>\n",
       "      <td>5</td>\n",
       "      <td>Z</td>\n",
       "      <td>2</td>\n",
       "      <td>radiotherapy</td>\n",
       "      <td>S</td>\n",
       "      <td>F</td>\n",
       "      <td>2.0</td>\n",
       "      <td>31397</td>\n",
       "      <td>7.0</td>\n",
       "      <td>Trauma</td>\n",
       "      <td>Extreme</td>\n",
       "      <td>2</td>\n",
       "      <td>51-60</td>\n",
       "      <td>5954</td>\n",
       "      <td>41-50</td>\n",
       "    </tr>\n",
       "    <tr>\n",
       "      <th>2</th>\n",
       "      <td>3</td>\n",
       "      <td>10</td>\n",
       "      <td>e</td>\n",
       "      <td>1</td>\n",
       "      <td>X</td>\n",
       "      <td>2</td>\n",
       "      <td>anesthesia</td>\n",
       "      <td>S</td>\n",
       "      <td>E</td>\n",
       "      <td>2.0</td>\n",
       "      <td>31397</td>\n",
       "      <td>7.0</td>\n",
       "      <td>Trauma</td>\n",
       "      <td>Extreme</td>\n",
       "      <td>2</td>\n",
       "      <td>51-60</td>\n",
       "      <td>4745</td>\n",
       "      <td>31-40</td>\n",
       "    </tr>\n",
       "    <tr>\n",
       "      <th>3</th>\n",
       "      <td>4</td>\n",
       "      <td>26</td>\n",
       "      <td>b</td>\n",
       "      <td>2</td>\n",
       "      <td>Y</td>\n",
       "      <td>2</td>\n",
       "      <td>radiotherapy</td>\n",
       "      <td>R</td>\n",
       "      <td>D</td>\n",
       "      <td>2.0</td>\n",
       "      <td>31397</td>\n",
       "      <td>7.0</td>\n",
       "      <td>Trauma</td>\n",
       "      <td>Extreme</td>\n",
       "      <td>2</td>\n",
       "      <td>51-60</td>\n",
       "      <td>7272</td>\n",
       "      <td>41-50</td>\n",
       "    </tr>\n",
       "    <tr>\n",
       "      <th>4</th>\n",
       "      <td>5</td>\n",
       "      <td>26</td>\n",
       "      <td>b</td>\n",
       "      <td>2</td>\n",
       "      <td>Y</td>\n",
       "      <td>2</td>\n",
       "      <td>radiotherapy</td>\n",
       "      <td>S</td>\n",
       "      <td>D</td>\n",
       "      <td>2.0</td>\n",
       "      <td>31397</td>\n",
       "      <td>7.0</td>\n",
       "      <td>Trauma</td>\n",
       "      <td>Extreme</td>\n",
       "      <td>2</td>\n",
       "      <td>51-60</td>\n",
       "      <td>5558</td>\n",
       "      <td>41-50</td>\n",
       "    </tr>\n",
       "  </tbody>\n",
       "</table>\n",
       "</div>"
      ],
      "text/plain": [
       "   case_id  Hospital_code Hospital_type_code  City_Code_Hospital  \\\n",
       "0        1              8                  c                   3   \n",
       "1        2              2                  c                   5   \n",
       "2        3             10                  e                   1   \n",
       "3        4             26                  b                   2   \n",
       "4        5             26                  b                   2   \n",
       "\n",
       "  Hospital_region_code  Available Extra Rooms in Hospital    Department  \\\n",
       "0                    Z                                  3  radiotherapy   \n",
       "1                    Z                                  2  radiotherapy   \n",
       "2                    X                                  2    anesthesia   \n",
       "3                    Y                                  2  radiotherapy   \n",
       "4                    Y                                  2  radiotherapy   \n",
       "\n",
       "  Ward_Type Ward_Facility_Code  Bed Grade  patientid  City_Code_Patient  \\\n",
       "0         R                  F        2.0      31397                7.0   \n",
       "1         S                  F        2.0      31397                7.0   \n",
       "2         S                  E        2.0      31397                7.0   \n",
       "3         R                  D        2.0      31397                7.0   \n",
       "4         S                  D        2.0      31397                7.0   \n",
       "\n",
       "  Type of Admission Severity of Illness  Visitors with Patient    Age  \\\n",
       "0         Emergency             Extreme                      2  51-60   \n",
       "1            Trauma             Extreme                      2  51-60   \n",
       "2            Trauma             Extreme                      2  51-60   \n",
       "3            Trauma             Extreme                      2  51-60   \n",
       "4            Trauma             Extreme                      2  51-60   \n",
       "\n",
       "   Admission_Deposit   Stay  \n",
       "0               4911   0-10  \n",
       "1               5954  41-50  \n",
       "2               4745  31-40  \n",
       "3               7272  41-50  \n",
       "4               5558  41-50  "
      ]
     },
     "execution_count": 24,
     "metadata": {},
     "output_type": "execute_result"
    }
   ],
   "source": [
    "df.head()"
   ]
  },
  {
   "cell_type": "code",
   "execution_count": 25,
   "id": "84cd6140",
   "metadata": {},
   "outputs": [
    {
     "data": {
      "text/plain": [
       "<AxesSubplot:xlabel='Admission_Deposit', ylabel='Density'>"
      ]
     },
     "execution_count": 25,
     "metadata": {},
     "output_type": "execute_result"
    },
    {
     "data": {
      "image/png": "[encoded data removed]",
      "text/plain": [
       "<Figure size 640x480 with 1 Axes>"
      ]
     },
     "metadata": {},
     "output_type": "display_data"
    }
   ],
   "source": [
    "sns.distplot(df['Admission_Deposit'])"
   ]
  },
  {
   "cell_type": "code",
   "execution_count": 95,
   "id": "44448dfe",
   "metadata": {},
   "outputs": [
    {
     "data": {
      "text/plain": [
       "<AxesSubplot:xlabel='Admission_Deposit', ylabel='Stay'>"
      ]
     },
     "execution_count": 95,
     "metadata": {},
     "output_type": "execute_result"
    },
    {
     "data": {
      "image/png": "[encoded data removed]",
      "text/plain": [
       "<Figure size 640x480 with 1 Axes>"
      ]
     },
     "metadata": {},
     "output_type": "display_data"
    }
   ],
   "source": [
    "sns.barplot(df['Admission_Deposit'],df['Stay'])"
   ]
  },
  {
   "cell_type": "code",
   "execution_count": 27,
   "id": "40b5254a",
   "metadata": {},
   "outputs": [
    {
     "data": {
      "text/plain": [
       "11"
      ]
     },
     "execution_count": 27,
     "metadata": {},
     "output_type": "execute_result"
    }
   ],
   "source": [
    "len(df['City_Code_Hospital'].value_counts())"
   ]
  },
  {
   "cell_type": "code",
   "execution_count": 28,
   "id": "6aea2690",
   "metadata": {},
   "outputs": [
    {
     "data": {
      "text/plain": [
       "<AxesSubplot:>"
      ]
     },
     "execution_count": 28,
     "metadata": {},
     "output_type": "execute_result"
    },
    {
     "data": {
      "image/png": "[encoded data removed]",
      "text/plain": [
       "<Figure size 640x480 with 1 Axes>"
      ]
     },
     "metadata": {},
     "output_type": "display_data"
    }
   ],
   "source": [
    "df['City_Code_Hospital'].value_counts().plot(kind = 'bar')"
   ]
  },
  {
   "cell_type": "code",
   "execution_count": 29,
   "id": "d74f173c",
   "metadata": {},
   "outputs": [
    {
     "data": {
      "text/plain": [
       "<AxesSubplot:xlabel='Stay'>"
      ]
     },
     "execution_count": 29,
     "metadata": {},
     "output_type": "execute_result"
    },
    {
     "data": {
      "text/plain": [
       "<Figure size 2000x3000 with 0 Axes>"
      ]
     },
     "metadata": {},
     "output_type": "display_data"
    },
    {
     "data": {
      "image/png": "[encoded data removed]",
      "text/plain": [
       "<Figure size 640x480 with 1 Axes>"
      ]
     },
     "metadata": {},
     "output_type": "display_data"
    }
   ],
   "source": [
    "plt.figure(figsize = (20,30))\n",
    "pd.crosstab(df['Stay'],df['City_Code_Hospital']).plot(kind = 'bar')"
   ]
  },
  {
   "cell_type": "code",
   "execution_count": 30,
   "id": "60d790ae",
   "metadata": {},
   "outputs": [
    {
     "data": {
      "text/plain": [
       "8.0     128543\n",
       "2.0      38869\n",
       "1.0      26377\n",
       "7.0      23807\n",
       "5.0      20079\n",
       "4.0      15380\n",
       "9.0      11795\n",
       "15.0      8950\n",
       "10.0      8174\n",
       "6.0       6005\n",
       "12.0      5647\n",
       "3.0       3772\n",
       "23.0      3698\n",
       "14.0      2927\n",
       "16.0      2254\n",
       "13.0      1625\n",
       "21.0      1602\n",
       "20.0      1409\n",
       "18.0      1404\n",
       "19.0      1028\n",
       "26.0      1023\n",
       "25.0       798\n",
       "27.0       771\n",
       "11.0       658\n",
       "28.0       521\n",
       "22.0       405\n",
       "24.0       360\n",
       "30.0       133\n",
       "29.0        98\n",
       "33.0        78\n",
       "31.0        59\n",
       "37.0        57\n",
       "32.0        52\n",
       "34.0        46\n",
       "35.0        16\n",
       "36.0        12\n",
       "38.0         6\n",
       "Name: City_Code_Patient, dtype: int64"
      ]
     },
     "execution_count": 30,
     "metadata": {},
     "output_type": "execute_result"
    }
   ],
   "source": [
    "df['City_Code_Patient'].value_counts()"
   ]
  },
  {
   "cell_type": "code",
   "execution_count": 70,
   "id": "7e4d827c",
   "metadata": {},
   "outputs": [],
   "source": [
    "df['City_Code_Patient']=df['City_Code_Patient'].astype('int')"
   ]
  },
  {
   "cell_type": "code",
   "execution_count": 71,
   "id": "16ca809b",
   "metadata": {},
   "outputs": [
    {
     "data": {
      "text/html": [
       "<div>\n",
       "<style scoped>\n",
       "    .dataframe tbody tr th:only-of-type {\n",
       "        vertical-align: middle;\n",
       "    }\n",
       "\n",
       "    .dataframe tbody tr th {\n",
       "        vertical-align: top;\n",
       "    }\n",
       "\n",
       "    .dataframe thead th {\n",
       "        text-align: right;\n",
       "    }\n",
       "</style>\n",
       "<table border=\"1\" class=\"dataframe\">\n",
       "  <thead>\n",
       "    <tr style=\"text-align: right;\">\n",
       "      <th>Stay</th>\n",
       "      <th>0-10</th>\n",
       "      <th>11-20</th>\n",
       "      <th>21-30</th>\n",
       "      <th>31-40</th>\n",
       "      <th>41-50</th>\n",
       "      <th>51-60</th>\n",
       "      <th>61-70</th>\n",
       "      <th>71-80</th>\n",
       "      <th>81-90</th>\n",
       "      <th>91-100</th>\n",
       "      <th>&gt;100</th>\n",
       "    </tr>\n",
       "    <tr>\n",
       "      <th>City_Code_Patient</th>\n",
       "      <th></th>\n",
       "      <th></th>\n",
       "      <th></th>\n",
       "      <th></th>\n",
       "      <th></th>\n",
       "      <th></th>\n",
       "      <th></th>\n",
       "      <th></th>\n",
       "      <th></th>\n",
       "      <th></th>\n",
       "      <th></th>\n",
       "    </tr>\n",
       "  </thead>\n",
       "  <tbody>\n",
       "    <tr>\n",
       "      <th>1</th>\n",
       "      <td>1859</td>\n",
       "      <td>6544</td>\n",
       "      <td>7720</td>\n",
       "      <td>4514</td>\n",
       "      <td>733</td>\n",
       "      <td>3064</td>\n",
       "      <td>172</td>\n",
       "      <td>737</td>\n",
       "      <td>386</td>\n",
       "      <td>194</td>\n",
       "      <td>454</td>\n",
       "    </tr>\n",
       "    <tr>\n",
       "      <th>2</th>\n",
       "      <td>2446</td>\n",
       "      <td>10193</td>\n",
       "      <td>11883</td>\n",
       "      <td>6376</td>\n",
       "      <td>1130</td>\n",
       "      <td>4377</td>\n",
       "      <td>199</td>\n",
       "      <td>940</td>\n",
       "      <td>523</td>\n",
       "      <td>248</td>\n",
       "      <td>554</td>\n",
       "    </tr>\n",
       "    <tr>\n",
       "      <th>3</th>\n",
       "      <td>233</td>\n",
       "      <td>751</td>\n",
       "      <td>828</td>\n",
       "      <td>703</td>\n",
       "      <td>175</td>\n",
       "      <td>493</td>\n",
       "      <td>61</td>\n",
       "      <td>187</td>\n",
       "      <td>93</td>\n",
       "      <td>69</td>\n",
       "      <td>179</td>\n",
       "    </tr>\n",
       "    <tr>\n",
       "      <th>4</th>\n",
       "      <td>1432</td>\n",
       "      <td>3965</td>\n",
       "      <td>3986</td>\n",
       "      <td>2556</td>\n",
       "      <td>669</td>\n",
       "      <td>1639</td>\n",
       "      <td>126</td>\n",
       "      <td>433</td>\n",
       "      <td>215</td>\n",
       "      <td>123</td>\n",
       "      <td>236</td>\n",
       "    </tr>\n",
       "    <tr>\n",
       "      <th>5</th>\n",
       "      <td>1588</td>\n",
       "      <td>4583</td>\n",
       "      <td>4997</td>\n",
       "      <td>3608</td>\n",
       "      <td>816</td>\n",
       "      <td>2436</td>\n",
       "      <td>230</td>\n",
       "      <td>807</td>\n",
       "      <td>335</td>\n",
       "      <td>197</td>\n",
       "      <td>482</td>\n",
       "    </tr>\n",
       "    <tr>\n",
       "      <th>6</th>\n",
       "      <td>631</td>\n",
       "      <td>1735</td>\n",
       "      <td>1424</td>\n",
       "      <td>1027</td>\n",
       "      <td>210</td>\n",
       "      <td>548</td>\n",
       "      <td>51</td>\n",
       "      <td>181</td>\n",
       "      <td>72</td>\n",
       "      <td>49</td>\n",
       "      <td>77</td>\n",
       "    </tr>\n",
       "    <tr>\n",
       "      <th>7</th>\n",
       "      <td>1691</td>\n",
       "      <td>5840</td>\n",
       "      <td>6269</td>\n",
       "      <td>4233</td>\n",
       "      <td>808</td>\n",
       "      <td>2843</td>\n",
       "      <td>200</td>\n",
       "      <td>766</td>\n",
       "      <td>449</td>\n",
       "      <td>194</td>\n",
       "      <td>514</td>\n",
       "    </tr>\n",
       "    <tr>\n",
       "      <th>8</th>\n",
       "      <td>8618</td>\n",
       "      <td>29811</td>\n",
       "      <td>35934</td>\n",
       "      <td>22723</td>\n",
       "      <td>5116</td>\n",
       "      <td>14003</td>\n",
       "      <td>1218</td>\n",
       "      <td>4600</td>\n",
       "      <td>2041</td>\n",
       "      <td>1235</td>\n",
       "      <td>3244</td>\n",
       "    </tr>\n",
       "    <tr>\n",
       "      <th>9</th>\n",
       "      <td>1044</td>\n",
       "      <td>2905</td>\n",
       "      <td>3011</td>\n",
       "      <td>2060</td>\n",
       "      <td>504</td>\n",
       "      <td>1300</td>\n",
       "      <td>125</td>\n",
       "      <td>376</td>\n",
       "      <td>162</td>\n",
       "      <td>112</td>\n",
       "      <td>196</td>\n",
       "    </tr>\n",
       "    <tr>\n",
       "      <th>10</th>\n",
       "      <td>876</td>\n",
       "      <td>2618</td>\n",
       "      <td>1929</td>\n",
       "      <td>1304</td>\n",
       "      <td>145</td>\n",
       "      <td>860</td>\n",
       "      <td>35</td>\n",
       "      <td>149</td>\n",
       "      <td>108</td>\n",
       "      <td>44</td>\n",
       "      <td>106</td>\n",
       "    </tr>\n",
       "    <tr>\n",
       "      <th>11</th>\n",
       "      <td>93</td>\n",
       "      <td>193</td>\n",
       "      <td>157</td>\n",
       "      <td>95</td>\n",
       "      <td>45</td>\n",
       "      <td>41</td>\n",
       "      <td>3</td>\n",
       "      <td>20</td>\n",
       "      <td>3</td>\n",
       "      <td>5</td>\n",
       "      <td>3</td>\n",
       "    </tr>\n",
       "    <tr>\n",
       "      <th>12</th>\n",
       "      <td>557</td>\n",
       "      <td>1591</td>\n",
       "      <td>1350</td>\n",
       "      <td>984</td>\n",
       "      <td>167</td>\n",
       "      <td>613</td>\n",
       "      <td>40</td>\n",
       "      <td>147</td>\n",
       "      <td>79</td>\n",
       "      <td>33</td>\n",
       "      <td>86</td>\n",
       "    </tr>\n",
       "    <tr>\n",
       "      <th>13</th>\n",
       "      <td>153</td>\n",
       "      <td>460</td>\n",
       "      <td>494</td>\n",
       "      <td>233</td>\n",
       "      <td>54</td>\n",
       "      <td>130</td>\n",
       "      <td>10</td>\n",
       "      <td>45</td>\n",
       "      <td>17</td>\n",
       "      <td>10</td>\n",
       "      <td>19</td>\n",
       "    </tr>\n",
       "    <tr>\n",
       "      <th>14</th>\n",
       "      <td>155</td>\n",
       "      <td>639</td>\n",
       "      <td>806</td>\n",
       "      <td>501</td>\n",
       "      <td>163</td>\n",
       "      <td>345</td>\n",
       "      <td>38</td>\n",
       "      <td>133</td>\n",
       "      <td>40</td>\n",
       "      <td>38</td>\n",
       "      <td>69</td>\n",
       "    </tr>\n",
       "    <tr>\n",
       "      <th>15</th>\n",
       "      <td>588</td>\n",
       "      <td>1874</td>\n",
       "      <td>2538</td>\n",
       "      <td>1540</td>\n",
       "      <td>421</td>\n",
       "      <td>1016</td>\n",
       "      <td>120</td>\n",
       "      <td>331</td>\n",
       "      <td>149</td>\n",
       "      <td>129</td>\n",
       "      <td>244</td>\n",
       "    </tr>\n",
       "    <tr>\n",
       "      <th>16</th>\n",
       "      <td>192</td>\n",
       "      <td>560</td>\n",
       "      <td>709</td>\n",
       "      <td>381</td>\n",
       "      <td>91</td>\n",
       "      <td>187</td>\n",
       "      <td>15</td>\n",
       "      <td>49</td>\n",
       "      <td>20</td>\n",
       "      <td>17</td>\n",
       "      <td>33</td>\n",
       "    </tr>\n",
       "    <tr>\n",
       "      <th>18</th>\n",
       "      <td>147</td>\n",
       "      <td>401</td>\n",
       "      <td>357</td>\n",
       "      <td>259</td>\n",
       "      <td>28</td>\n",
       "      <td>119</td>\n",
       "      <td>14</td>\n",
       "      <td>43</td>\n",
       "      <td>14</td>\n",
       "      <td>6</td>\n",
       "      <td>16</td>\n",
       "    </tr>\n",
       "    <tr>\n",
       "      <th>19</th>\n",
       "      <td>92</td>\n",
       "      <td>293</td>\n",
       "      <td>312</td>\n",
       "      <td>161</td>\n",
       "      <td>36</td>\n",
       "      <td>80</td>\n",
       "      <td>6</td>\n",
       "      <td>25</td>\n",
       "      <td>11</td>\n",
       "      <td>5</td>\n",
       "      <td>7</td>\n",
       "    </tr>\n",
       "    <tr>\n",
       "      <th>20</th>\n",
       "      <td>172</td>\n",
       "      <td>387</td>\n",
       "      <td>322</td>\n",
       "      <td>244</td>\n",
       "      <td>50</td>\n",
       "      <td>124</td>\n",
       "      <td>12</td>\n",
       "      <td>39</td>\n",
       "      <td>13</td>\n",
       "      <td>8</td>\n",
       "      <td>38</td>\n",
       "    </tr>\n",
       "    <tr>\n",
       "      <th>21</th>\n",
       "      <td>238</td>\n",
       "      <td>580</td>\n",
       "      <td>352</td>\n",
       "      <td>243</td>\n",
       "      <td>42</td>\n",
       "      <td>101</td>\n",
       "      <td>6</td>\n",
       "      <td>28</td>\n",
       "      <td>4</td>\n",
       "      <td>3</td>\n",
       "      <td>5</td>\n",
       "    </tr>\n",
       "    <tr>\n",
       "      <th>22</th>\n",
       "      <td>37</td>\n",
       "      <td>90</td>\n",
       "      <td>96</td>\n",
       "      <td>73</td>\n",
       "      <td>10</td>\n",
       "      <td>52</td>\n",
       "      <td>2</td>\n",
       "      <td>16</td>\n",
       "      <td>6</td>\n",
       "      <td>2</td>\n",
       "      <td>21</td>\n",
       "    </tr>\n",
       "    <tr>\n",
       "      <th>23</th>\n",
       "      <td>368</td>\n",
       "      <td>1069</td>\n",
       "      <td>936</td>\n",
       "      <td>674</td>\n",
       "      <td>127</td>\n",
       "      <td>289</td>\n",
       "      <td>25</td>\n",
       "      <td>96</td>\n",
       "      <td>52</td>\n",
       "      <td>14</td>\n",
       "      <td>48</td>\n",
       "    </tr>\n",
       "    <tr>\n",
       "      <th>24</th>\n",
       "      <td>27</td>\n",
       "      <td>96</td>\n",
       "      <td>112</td>\n",
       "      <td>46</td>\n",
       "      <td>20</td>\n",
       "      <td>37</td>\n",
       "      <td>2</td>\n",
       "      <td>10</td>\n",
       "      <td>3</td>\n",
       "      <td>4</td>\n",
       "      <td>3</td>\n",
       "    </tr>\n",
       "    <tr>\n",
       "      <th>25</th>\n",
       "      <td>49</td>\n",
       "      <td>218</td>\n",
       "      <td>222</td>\n",
       "      <td>140</td>\n",
       "      <td>44</td>\n",
       "      <td>67</td>\n",
       "      <td>16</td>\n",
       "      <td>19</td>\n",
       "      <td>3</td>\n",
       "      <td>7</td>\n",
       "      <td>13</td>\n",
       "    </tr>\n",
       "    <tr>\n",
       "      <th>26</th>\n",
       "      <td>94</td>\n",
       "      <td>232</td>\n",
       "      <td>293</td>\n",
       "      <td>175</td>\n",
       "      <td>52</td>\n",
       "      <td>100</td>\n",
       "      <td>7</td>\n",
       "      <td>32</td>\n",
       "      <td>20</td>\n",
       "      <td>6</td>\n",
       "      <td>12</td>\n",
       "    </tr>\n",
       "    <tr>\n",
       "      <th>27</th>\n",
       "      <td>112</td>\n",
       "      <td>224</td>\n",
       "      <td>168</td>\n",
       "      <td>137</td>\n",
       "      <td>29</td>\n",
       "      <td>63</td>\n",
       "      <td>2</td>\n",
       "      <td>13</td>\n",
       "      <td>7</td>\n",
       "      <td>5</td>\n",
       "      <td>11</td>\n",
       "    </tr>\n",
       "    <tr>\n",
       "      <th>28</th>\n",
       "      <td>62</td>\n",
       "      <td>128</td>\n",
       "      <td>138</td>\n",
       "      <td>82</td>\n",
       "      <td>33</td>\n",
       "      <td>39</td>\n",
       "      <td>6</td>\n",
       "      <td>17</td>\n",
       "      <td>5</td>\n",
       "      <td>3</td>\n",
       "      <td>8</td>\n",
       "    </tr>\n",
       "    <tr>\n",
       "      <th>29</th>\n",
       "      <td>13</td>\n",
       "      <td>26</td>\n",
       "      <td>23</td>\n",
       "      <td>18</td>\n",
       "      <td>4</td>\n",
       "      <td>8</td>\n",
       "      <td>1</td>\n",
       "      <td>1</td>\n",
       "      <td>2</td>\n",
       "      <td>0</td>\n",
       "      <td>2</td>\n",
       "    </tr>\n",
       "    <tr>\n",
       "      <th>30</th>\n",
       "      <td>11</td>\n",
       "      <td>39</td>\n",
       "      <td>31</td>\n",
       "      <td>17</td>\n",
       "      <td>5</td>\n",
       "      <td>16</td>\n",
       "      <td>0</td>\n",
       "      <td>8</td>\n",
       "      <td>4</td>\n",
       "      <td>1</td>\n",
       "      <td>1</td>\n",
       "    </tr>\n",
       "    <tr>\n",
       "      <th>31</th>\n",
       "      <td>1</td>\n",
       "      <td>22</td>\n",
       "      <td>13</td>\n",
       "      <td>12</td>\n",
       "      <td>2</td>\n",
       "      <td>5</td>\n",
       "      <td>0</td>\n",
       "      <td>2</td>\n",
       "      <td>0</td>\n",
       "      <td>1</td>\n",
       "      <td>1</td>\n",
       "    </tr>\n",
       "    <tr>\n",
       "      <th>32</th>\n",
       "      <td>7</td>\n",
       "      <td>10</td>\n",
       "      <td>20</td>\n",
       "      <td>6</td>\n",
       "      <td>3</td>\n",
       "      <td>3</td>\n",
       "      <td>0</td>\n",
       "      <td>1</td>\n",
       "      <td>0</td>\n",
       "      <td>1</td>\n",
       "      <td>1</td>\n",
       "    </tr>\n",
       "    <tr>\n",
       "      <th>33</th>\n",
       "      <td>3</td>\n",
       "      <td>27</td>\n",
       "      <td>26</td>\n",
       "      <td>10</td>\n",
       "      <td>4</td>\n",
       "      <td>6</td>\n",
       "      <td>0</td>\n",
       "      <td>1</td>\n",
       "      <td>1</td>\n",
       "      <td>0</td>\n",
       "      <td>0</td>\n",
       "    </tr>\n",
       "    <tr>\n",
       "      <th>34</th>\n",
       "      <td>2</td>\n",
       "      <td>12</td>\n",
       "      <td>14</td>\n",
       "      <td>9</td>\n",
       "      <td>3</td>\n",
       "      <td>4</td>\n",
       "      <td>0</td>\n",
       "      <td>1</td>\n",
       "      <td>1</td>\n",
       "      <td>0</td>\n",
       "      <td>0</td>\n",
       "    </tr>\n",
       "    <tr>\n",
       "      <th>35</th>\n",
       "      <td>5</td>\n",
       "      <td>0</td>\n",
       "      <td>5</td>\n",
       "      <td>3</td>\n",
       "      <td>0</td>\n",
       "      <td>2</td>\n",
       "      <td>1</td>\n",
       "      <td>0</td>\n",
       "      <td>0</td>\n",
       "      <td>0</td>\n",
       "      <td>0</td>\n",
       "    </tr>\n",
       "    <tr>\n",
       "      <th>36</th>\n",
       "      <td>2</td>\n",
       "      <td>3</td>\n",
       "      <td>2</td>\n",
       "      <td>2</td>\n",
       "      <td>0</td>\n",
       "      <td>3</td>\n",
       "      <td>0</td>\n",
       "      <td>0</td>\n",
       "      <td>0</td>\n",
       "      <td>0</td>\n",
       "      <td>0</td>\n",
       "    </tr>\n",
       "    <tr>\n",
       "      <th>37</th>\n",
       "      <td>4</td>\n",
       "      <td>18</td>\n",
       "      <td>14</td>\n",
       "      <td>8</td>\n",
       "      <td>4</td>\n",
       "      <td>5</td>\n",
       "      <td>1</td>\n",
       "      <td>1</td>\n",
       "      <td>0</td>\n",
       "      <td>2</td>\n",
       "      <td>0</td>\n",
       "    </tr>\n",
       "    <tr>\n",
       "      <th>38</th>\n",
       "      <td>2</td>\n",
       "      <td>2</td>\n",
       "      <td>0</td>\n",
       "      <td>2</td>\n",
       "      <td>0</td>\n",
       "      <td>0</td>\n",
       "      <td>0</td>\n",
       "      <td>0</td>\n",
       "      <td>0</td>\n",
       "      <td>0</td>\n",
       "      <td>0</td>\n",
       "    </tr>\n",
       "  </tbody>\n",
       "</table>\n",
       "</div>"
      ],
      "text/plain": [
       "Stay               0-10  11-20  21-30  31-40  41-50  51-60  61-70  71-80  \\\n",
       "City_Code_Patient                                                          \n",
       "1                  1859   6544   7720   4514    733   3064    172    737   \n",
       "2                  2446  10193  11883   6376   1130   4377    199    940   \n",
       "3                   233    751    828    703    175    493     61    187   \n",
       "4                  1432   3965   3986   2556    669   1639    126    433   \n",
       "5                  1588   4583   4997   3608    816   2436    230    807   \n",
       "6                   631   1735   1424   1027    210    548     51    181   \n",
       "7                  1691   5840   6269   4233    808   2843    200    766   \n",
       "8                  8618  29811  35934  22723   5116  14003   1218   4600   \n",
       "9                  1044   2905   3011   2060    504   1300    125    376   \n",
       "10                  876   2618   1929   1304    145    860     35    149   \n",
       "11                   93    193    157     95     45     41      3     20   \n",
       "12                  557   1591   1350    984    167    613     40    147   \n",
       "13                  153    460    494    233     54    130     10     45   \n",
       "14                  155    639    806    501    163    345     38    133   \n",
       "15                  588   1874   2538   1540    421   1016    120    331   \n",
       "16                  192    560    709    381     91    187     15     49   \n",
       "18                  147    401    357    259     28    119     14     43   \n",
       "19                   92    293    312    161     36     80      6     25   \n",
       "20                  172    387    322    244     50    124     12     39   \n",
       "21                  238    580    352    243     42    101      6     28   \n",
       "22                   37     90     96     73     10     52      2     16   \n",
       "23                  368   1069    936    674    127    289     25     96   \n",
       "24                   27     96    112     46     20     37      2     10   \n",
       "25                   49    218    222    140     44     67     16     19   \n",
       "26                   94    232    293    175     52    100      7     32   \n",
       "27                  112    224    168    137     29     63      2     13   \n",
       "28                   62    128    138     82     33     39      6     17   \n",
       "29                   13     26     23     18      4      8      1      1   \n",
       "30                   11     39     31     17      5     16      0      8   \n",
       "31                    1     22     13     12      2      5      0      2   \n",
       "32                    7     10     20      6      3      3      0      1   \n",
       "33                    3     27     26     10      4      6      0      1   \n",
       "34                    2     12     14      9      3      4      0      1   \n",
       "35                    5      0      5      3      0      2      1      0   \n",
       "36                    2      3      2      2      0      3      0      0   \n",
       "37                    4     18     14      8      4      5      1      1   \n",
       "38                    2      2      0      2      0      0      0      0   \n",
       "\n",
       "Stay               81-90  91-100  >100  \n",
       "City_Code_Patient                       \n",
       "1                    386     194   454  \n",
       "2                    523     248   554  \n",
       "3                     93      69   179  \n",
       "4                    215     123   236  \n",
       "5                    335     197   482  \n",
       "6                     72      49    77  \n",
       "7                    449     194   514  \n",
       "8                   2041    1235  3244  \n",
       "9                    162     112   196  \n",
       "10                   108      44   106  \n",
       "11                     3       5     3  \n",
       "12                    79      33    86  \n",
       "13                    17      10    19  \n",
       "14                    40      38    69  \n",
       "15                   149     129   244  \n",
       "16                    20      17    33  \n",
       "18                    14       6    16  \n",
       "19                    11       5     7  \n",
       "20                    13       8    38  \n",
       "21                     4       3     5  \n",
       "22                     6       2    21  \n",
       "23                    52      14    48  \n",
       "24                     3       4     3  \n",
       "25                     3       7    13  \n",
       "26                    20       6    12  \n",
       "27                     7       5    11  \n",
       "28                     5       3     8  \n",
       "29                     2       0     2  \n",
       "30                     4       1     1  \n",
       "31                     0       1     1  \n",
       "32                     0       1     1  \n",
       "33                     1       0     0  \n",
       "34                     1       0     0  \n",
       "35                     0       0     0  \n",
       "36                     0       0     0  \n",
       "37                     0       2     0  \n",
       "38                     0       0     0  "
      ]
     },
     "execution_count": 71,
     "metadata": {},
     "output_type": "execute_result"
    }
   ],
   "source": [
    "pd.crosstab(df['City_Code_Patient'],df['Stay'])"
   ]
  },
  {
   "cell_type": "code",
   "execution_count": 86,
   "id": "31ec2a41",
   "metadata": {},
   "outputs": [],
   "source": [
    "def city_code(x):\n",
    "    if x >= 1 and x<=9:\n",
    "        return \"1-9\"\n",
    "    elif x>=10 and x<=18:\n",
    "        return \"10-18\"\n",
    "    elif x>=19 and x<=27:\n",
    "        return \"19-27\"\n",
    "    else:\n",
    "        return \"28-38\""
   ]
  },
  {
   "cell_type": "code",
   "execution_count": 74,
   "id": "56199a0e",
   "metadata": {},
   "outputs": [],
   "source": [
    "df['City_Code_Patient_fe']=df['City_Code_Patient'].apply(city_code)"
   ]
  },
  {
   "cell_type": "code",
   "execution_count": 77,
   "id": "e2c8b48f",
   "metadata": {},
   "outputs": [
    {
     "data": {
      "text/plain": [
       "<AxesSubplot:>"
      ]
     },
     "execution_count": 77,
     "metadata": {},
     "output_type": "execute_result"
    },
    {
     "data": {
      "image/png": "[encoded data removed]",
      "text/plain": [
       "<Figure size 640x480 with 1 Axes>"
      ]
     },
     "metadata": {},
     "output_type": "display_data"
    }
   ],
   "source": [
    "df['City_Code_Patient_fe'].value_counts().plot(kind = 'bar')"
   ]
  },
  {
   "cell_type": "code",
   "execution_count": 80,
   "id": "1ee75b3c",
   "metadata": {},
   "outputs": [
    {
     "data": {
      "text/html": [
       "<div>\n",
       "<style scoped>\n",
       "    .dataframe tbody tr th:only-of-type {\n",
       "        vertical-align: middle;\n",
       "    }\n",
       "\n",
       "    .dataframe tbody tr th {\n",
       "        vertical-align: top;\n",
       "    }\n",
       "\n",
       "    .dataframe thead th {\n",
       "        text-align: right;\n",
       "    }\n",
       "</style>\n",
       "<table border=\"1\" class=\"dataframe\">\n",
       "  <thead>\n",
       "    <tr style=\"text-align: right;\">\n",
       "      <th>Stay</th>\n",
       "      <th>0-10</th>\n",
       "      <th>11-20</th>\n",
       "      <th>21-30</th>\n",
       "      <th>31-40</th>\n",
       "      <th>41-50</th>\n",
       "      <th>51-60</th>\n",
       "      <th>61-70</th>\n",
       "      <th>71-80</th>\n",
       "      <th>81-90</th>\n",
       "      <th>91-100</th>\n",
       "      <th>&gt;100</th>\n",
       "    </tr>\n",
       "    <tr>\n",
       "      <th>City_Code_Patient_fe</th>\n",
       "      <th></th>\n",
       "      <th></th>\n",
       "      <th></th>\n",
       "      <th></th>\n",
       "      <th></th>\n",
       "      <th></th>\n",
       "      <th></th>\n",
       "      <th></th>\n",
       "      <th></th>\n",
       "      <th></th>\n",
       "      <th></th>\n",
       "    </tr>\n",
       "  </thead>\n",
       "  <tbody>\n",
       "    <tr>\n",
       "      <th>1-9</th>\n",
       "      <td>19542</td>\n",
       "      <td>66327</td>\n",
       "      <td>76052</td>\n",
       "      <td>47800</td>\n",
       "      <td>10161</td>\n",
       "      <td>30703</td>\n",
       "      <td>2382</td>\n",
       "      <td>9027</td>\n",
       "      <td>4276</td>\n",
       "      <td>2421</td>\n",
       "      <td>5936</td>\n",
       "    </tr>\n",
       "    <tr>\n",
       "      <th>10-18</th>\n",
       "      <td>2761</td>\n",
       "      <td>8336</td>\n",
       "      <td>8340</td>\n",
       "      <td>5297</td>\n",
       "      <td>1114</td>\n",
       "      <td>3311</td>\n",
       "      <td>275</td>\n",
       "      <td>917</td>\n",
       "      <td>430</td>\n",
       "      <td>282</td>\n",
       "      <td>576</td>\n",
       "    </tr>\n",
       "    <tr>\n",
       "      <th>19-27</th>\n",
       "      <td>1189</td>\n",
       "      <td>3189</td>\n",
       "      <td>2813</td>\n",
       "      <td>1893</td>\n",
       "      <td>410</td>\n",
       "      <td>913</td>\n",
       "      <td>78</td>\n",
       "      <td>278</td>\n",
       "      <td>119</td>\n",
       "      <td>54</td>\n",
       "      <td>158</td>\n",
       "    </tr>\n",
       "    <tr>\n",
       "      <th>28-38</th>\n",
       "      <td>112</td>\n",
       "      <td>287</td>\n",
       "      <td>286</td>\n",
       "      <td>169</td>\n",
       "      <td>58</td>\n",
       "      <td>91</td>\n",
       "      <td>9</td>\n",
       "      <td>32</td>\n",
       "      <td>13</td>\n",
       "      <td>8</td>\n",
       "      <td>13</td>\n",
       "    </tr>\n",
       "  </tbody>\n",
       "</table>\n",
       "</div>"
      ],
      "text/plain": [
       "Stay                   0-10  11-20  21-30  31-40  41-50  51-60  61-70  71-80  \\\n",
       "City_Code_Patient_fe                                                           \n",
       "1-9                   19542  66327  76052  47800  10161  30703   2382   9027   \n",
       "10-18                  2761   8336   8340   5297   1114   3311    275    917   \n",
       "19-27                  1189   3189   2813   1893    410    913     78    278   \n",
       "28-38                   112    287    286    169     58     91      9     32   \n",
       "\n",
       "Stay                  81-90  91-100  >100  \n",
       "City_Code_Patient_fe                       \n",
       "1-9                    4276    2421  5936  \n",
       "10-18                   430     282   576  \n",
       "19-27                   119      54   158  \n",
       "28-38                    13       8    13  "
      ]
     },
     "execution_count": 80,
     "metadata": {},
     "output_type": "execute_result"
    }
   ],
   "source": [
    "pd.crosstab(df['City_Code_Patient_fe'],df['Stay'])"
   ]
  },
  {
   "cell_type": "code",
   "execution_count": 96,
   "id": "6a494163",
   "metadata": {},
   "outputs": [
    {
     "data": {
      "text/plain": [
       "<AxesSubplot:xlabel='City_Code_Patient_fe'>"
      ]
     },
     "execution_count": 96,
     "metadata": {},
     "output_type": "execute_result"
    },
    {
     "data": {
      "image/png": "[encoded data removed]",
      "text/plain": [
       "<Figure size 640x480 with 1 Axes>"
      ]
     },
     "metadata": {},
     "output_type": "display_data"
    }
   ],
   "source": [
    "pd.crosstab(df['City_Code_Patient_fe'],df['Stay']).plot(kind = 'bar')"
   ]
  },
  {
   "cell_type": "code",
   "execution_count": 84,
   "id": "ab8a9bc6",
   "metadata": {},
   "outputs": [
    {
     "data": {
      "text/plain": [
       "<AxesSubplot:>"
      ]
     },
     "execution_count": 84,
     "metadata": {},
     "output_type": "execute_result"
    },
    {
     "data": {
      "image/png": "[encoded data removed]",
      "text/plain": [
       "<Figure size 640x480 with 1 Axes>"
      ]
     },
     "metadata": {},
     "output_type": "display_data"
    }
   ],
   "source": [
    "df['Age'].value_counts().plot(kind = 'bar')"
   ]
  },
  {
   "cell_type": "code",
   "execution_count": 87,
   "id": "977bdb08",
   "metadata": {},
   "outputs": [],
   "source": [
    "def age(x):\n",
    "    if x == '0-10' or x == '11-20' or x == '21-30':\n",
    "        return '0-30'\n",
    "    elif x == '31-40' or x == '41-50' or x == '51-60':\n",
    "        return \"31-60\"\n",
    "    elif x == '61-70' or x == '71-80' or x == '81-90' or x == '91-100':\n",
    "        return \"61-100\""
   ]
  },
  {
   "cell_type": "code",
   "execution_count": 90,
   "id": "00fca4ea",
   "metadata": {},
   "outputs": [],
   "source": [
    "df['Age_fe']=df['Age'].apply(age)"
   ]
  },
  {
   "cell_type": "code",
   "execution_count": 92,
   "id": "a3466334",
   "metadata": {},
   "outputs": [
    {
     "data": {
      "text/plain": [
       "<AxesSubplot:>"
      ]
     },
     "execution_count": 92,
     "metadata": {},
     "output_type": "execute_result"
    },
    {
     "data": {
      "image/png": "[encoded data removed]",
      "text/plain": [
       "<Figure size 640x480 with 1 Axes>"
      ]
     },
     "metadata": {},
     "output_type": "display_data"
    }
   ],
   "source": [
    "df['Age_fe'].value_counts().plot(kind ='bar')"
   ]
  },
  {
   "cell_type": "code",
   "execution_count": 98,
   "id": "7827c82d",
   "metadata": {},
   "outputs": [
    {
     "data": {
      "text/plain": [
       "<AxesSubplot:xlabel='Age_fe'>"
      ]
     },
     "execution_count": 98,
     "metadata": {},
     "output_type": "execute_result"
    },
    {
     "data": {
      "image/png": "[encoded data removed]",
      "text/plain": [
       "<Figure size 640x480 with 1 Axes>"
      ]
     },
     "metadata": {},
     "output_type": "display_data"
    }
   ],
   "source": [
    "pd.crosstab(df['Age_fe'],df['Stay']).plot(kind = 'bar')"
   ]
  },
  {
   "cell_type": "code",
   "execution_count": 33,
   "id": "b56e5db6",
   "metadata": {},
   "outputs": [],
   "source": [
    "df_1 = df.copy()"
   ]
  },
  {
   "cell_type": "code",
   "execution_count": 34,
   "id": "d578633d",
   "metadata": {},
   "outputs": [],
   "source": [
    "cat = ['Hospital_type_code','Hospital_region_code','Department','Ward_Type',\n",
    " 'Ward_Facility_Code','Type of Admission','Severity of Illness','Age']"
   ]
  },
  {
   "cell_type": "code",
   "execution_count": 35,
   "id": "55fb677d",
   "metadata": {},
   "outputs": [],
   "source": [
    "le = LabelEncoder()\n",
    "for i in cat:\n",
    "    df_1[i] = le.fit_transform(df_1[i])"
   ]
  },
  {
   "cell_type": "code",
   "execution_count": 36,
   "id": "cdbb4345",
   "metadata": {},
   "outputs": [
    {
     "data": {
      "text/html": [
       "<div>\n",
       "<style scoped>\n",
       "    .dataframe tbody tr th:only-of-type {\n",
       "        vertical-align: middle;\n",
       "    }\n",
       "\n",
       "    .dataframe tbody tr th {\n",
       "        vertical-align: top;\n",
       "    }\n",
       "\n",
       "    .dataframe thead th {\n",
       "        text-align: right;\n",
       "    }\n",
       "</style>\n",
       "<table border=\"1\" class=\"dataframe\">\n",
       "  <thead>\n",
       "    <tr style=\"text-align: right;\">\n",
       "      <th></th>\n",
       "      <th>case_id</th>\n",
       "      <th>Hospital_code</th>\n",
       "      <th>Hospital_type_code</th>\n",
       "      <th>City_Code_Hospital</th>\n",
       "      <th>Hospital_region_code</th>\n",
       "      <th>Available Extra Rooms in Hospital</th>\n",
       "      <th>Department</th>\n",
       "      <th>Ward_Type</th>\n",
       "      <th>Ward_Facility_Code</th>\n",
       "      <th>Bed Grade</th>\n",
       "      <th>patientid</th>\n",
       "      <th>City_Code_Patient</th>\n",
       "      <th>Type of Admission</th>\n",
       "      <th>Severity of Illness</th>\n",
       "      <th>Visitors with Patient</th>\n",
       "      <th>Age</th>\n",
       "      <th>Admission_Deposit</th>\n",
       "      <th>Stay</th>\n",
       "    </tr>\n",
       "  </thead>\n",
       "  <tbody>\n",
       "    <tr>\n",
       "      <th>0</th>\n",
       "      <td>1</td>\n",
       "      <td>8</td>\n",
       "      <td>2</td>\n",
       "      <td>3</td>\n",
       "      <td>2</td>\n",
       "      <td>3</td>\n",
       "      <td>3</td>\n",
       "      <td>2</td>\n",
       "      <td>5</td>\n",
       "      <td>2.0</td>\n",
       "      <td>31397</td>\n",
       "      <td>7.0</td>\n",
       "      <td>0</td>\n",
       "      <td>0</td>\n",
       "      <td>2</td>\n",
       "      <td>5</td>\n",
       "      <td>4911</td>\n",
       "      <td>0-10</td>\n",
       "    </tr>\n",
       "    <tr>\n",
       "      <th>1</th>\n",
       "      <td>2</td>\n",
       "      <td>2</td>\n",
       "      <td>2</td>\n",
       "      <td>5</td>\n",
       "      <td>2</td>\n",
       "      <td>2</td>\n",
       "      <td>3</td>\n",
       "      <td>3</td>\n",
       "      <td>5</td>\n",
       "      <td>2.0</td>\n",
       "      <td>31397</td>\n",
       "      <td>7.0</td>\n",
       "      <td>1</td>\n",
       "      <td>0</td>\n",
       "      <td>2</td>\n",
       "      <td>5</td>\n",
       "      <td>5954</td>\n",
       "      <td>41-50</td>\n",
       "    </tr>\n",
       "    <tr>\n",
       "      <th>2</th>\n",
       "      <td>3</td>\n",
       "      <td>10</td>\n",
       "      <td>4</td>\n",
       "      <td>1</td>\n",
       "      <td>0</td>\n",
       "      <td>2</td>\n",
       "      <td>1</td>\n",
       "      <td>3</td>\n",
       "      <td>4</td>\n",
       "      <td>2.0</td>\n",
       "      <td>31397</td>\n",
       "      <td>7.0</td>\n",
       "      <td>1</td>\n",
       "      <td>0</td>\n",
       "      <td>2</td>\n",
       "      <td>5</td>\n",
       "      <td>4745</td>\n",
       "      <td>31-40</td>\n",
       "    </tr>\n",
       "    <tr>\n",
       "      <th>3</th>\n",
       "      <td>4</td>\n",
       "      <td>26</td>\n",
       "      <td>1</td>\n",
       "      <td>2</td>\n",
       "      <td>1</td>\n",
       "      <td>2</td>\n",
       "      <td>3</td>\n",
       "      <td>2</td>\n",
       "      <td>3</td>\n",
       "      <td>2.0</td>\n",
       "      <td>31397</td>\n",
       "      <td>7.0</td>\n",
       "      <td>1</td>\n",
       "      <td>0</td>\n",
       "      <td>2</td>\n",
       "      <td>5</td>\n",
       "      <td>7272</td>\n",
       "      <td>41-50</td>\n",
       "    </tr>\n",
       "    <tr>\n",
       "      <th>4</th>\n",
       "      <td>5</td>\n",
       "      <td>26</td>\n",
       "      <td>1</td>\n",
       "      <td>2</td>\n",
       "      <td>1</td>\n",
       "      <td>2</td>\n",
       "      <td>3</td>\n",
       "      <td>3</td>\n",
       "      <td>3</td>\n",
       "      <td>2.0</td>\n",
       "      <td>31397</td>\n",
       "      <td>7.0</td>\n",
       "      <td>1</td>\n",
       "      <td>0</td>\n",
       "      <td>2</td>\n",
       "      <td>5</td>\n",
       "      <td>5558</td>\n",
       "      <td>41-50</td>\n",
       "    </tr>\n",
       "  </tbody>\n",
       "</table>\n",
       "</div>"
      ],
      "text/plain": [
       "   case_id  Hospital_code  Hospital_type_code  City_Code_Hospital  \\\n",
       "0        1              8                   2                   3   \n",
       "1        2              2                   2                   5   \n",
       "2        3             10                   4                   1   \n",
       "3        4             26                   1                   2   \n",
       "4        5             26                   1                   2   \n",
       "\n",
       "   Hospital_region_code  Available Extra Rooms in Hospital  Department  \\\n",
       "0                     2                                  3           3   \n",
       "1                     2                                  2           3   \n",
       "2                     0                                  2           1   \n",
       "3                     1                                  2           3   \n",
       "4                     1                                  2           3   \n",
       "\n",
       "   Ward_Type  Ward_Facility_Code  Bed Grade  patientid  City_Code_Patient  \\\n",
       "0          2                   5        2.0      31397                7.0   \n",
       "1          3                   5        2.0      31397                7.0   \n",
       "2          3                   4        2.0      31397                7.0   \n",
       "3          2                   3        2.0      31397                7.0   \n",
       "4          3                   3        2.0      31397                7.0   \n",
       "\n",
       "   Type of Admission  Severity of Illness  Visitors with Patient  Age  \\\n",
       "0                  0                    0                      2    5   \n",
       "1                  1                    0                      2    5   \n",
       "2                  1                    0                      2    5   \n",
       "3                  1                    0                      2    5   \n",
       "4                  1                    0                      2    5   \n",
       "\n",
       "   Admission_Deposit   Stay  \n",
       "0               4911   0-10  \n",
       "1               5954  41-50  \n",
       "2               4745  31-40  \n",
       "3               7272  41-50  \n",
       "4               5558  41-50  "
      ]
     },
     "execution_count": 36,
     "metadata": {},
     "output_type": "execute_result"
    }
   ],
   "source": [
    "df_1.head()"
   ]
  },
  {
   "cell_type": "code",
   "execution_count": 37,
   "id": "7321f715",
   "metadata": {},
   "outputs": [],
   "source": [
    "x_base = df_1.drop(['case_id','patientid','Stay'],axis = 1)\n",
    "y_base = df_1['Stay']"
   ]
  },
  {
   "cell_type": "code",
   "execution_count": 38,
   "id": "7adb6821",
   "metadata": {},
   "outputs": [],
   "source": [
    "xtrain_base,xtest_base,ytrain_base,ytest_base = train_test_split(x_base,y_base,train_size=0.70,random_state = 100)"
   ]
  },
  {
   "cell_type": "code",
   "execution_count": 39,
   "id": "8af4d3d1",
   "metadata": {},
   "outputs": [],
   "source": [
    "dt_base = DecisionTreeClassifier()\n",
    "model_base = dt_base.fit(xtrain_base,ytrain_base)\n",
    "ypred_base = model_base.predict(xtest_base)"
   ]
  },
  {
   "cell_type": "code",
   "execution_count": 40,
   "id": "14261746",
   "metadata": {},
   "outputs": [
    {
     "name": "stdout",
     "output_type": "stream",
     "text": [
      "              precision    recall  f1-score   support\n",
      "\n",
      "        0-10       0.19      0.19      0.19      7230\n",
      "       11-20       0.34      0.34      0.34     23207\n",
      "       21-30       0.38      0.39      0.38     25580\n",
      "       31-40       0.24      0.24      0.24     16657\n",
      "       41-50       0.06      0.06      0.06      3794\n",
      "       51-60       0.30      0.30      0.30     10456\n",
      "       61-70       0.04      0.03      0.03       907\n",
      "       71-80       0.14      0.14      0.14      3178\n",
      "       81-90       0.21      0.20      0.20      1538\n",
      "      91-100       0.10      0.09      0.09       927\n",
      "        >100       0.34      0.32      0.33      2058\n",
      "\n",
      "    accuracy                           0.29     95532\n",
      "   macro avg       0.21      0.21      0.21     95532\n",
      "weighted avg       0.29      0.29      0.29     95532\n",
      "\n"
     ]
    }
   ],
   "source": [
    "print(classification_report(ypred_base,ytest_base))"
   ]
  },
  {
   "cell_type": "code",
   "execution_count": 41,
   "id": "236a5979",
   "metadata": {},
   "outputs": [],
   "source": [
    "x_sig = df_1[['Department','Type of Admission','Severity of Illness','Age']]\n",
    "y_sig = df_1['Stay']"
   ]
  },
  {
   "cell_type": "code",
   "execution_count": 42,
   "id": "bb9670f7",
   "metadata": {},
   "outputs": [],
   "source": [
    "xtrain_sig,xtest_sig,ytrain_sig,ytest_sig = train_test_split(x_sig,y_sig,train_size=0.70,random_state = 100)"
   ]
  },
  {
   "cell_type": "code",
   "execution_count": 43,
   "id": "1daaea78",
   "metadata": {},
   "outputs": [],
   "source": [
    "dt_sig = DecisionTreeClassifier()\n",
    "model_sig = dt_sig.fit(xtrain_sig,ytrain_sig)\n",
    "ypred_sig = model_sig.predict(xtest_sig)"
   ]
  },
  {
   "cell_type": "code",
   "execution_count": 44,
   "id": "9653db1d",
   "metadata": {},
   "outputs": [
    {
     "name": "stdout",
     "output_type": "stream",
     "text": [
      "              precision    recall  f1-score   support\n",
      "\n",
      "        0-10       0.00      0.19      0.00        83\n",
      "       11-20       0.57      0.29      0.39     45819\n",
      "       21-30       0.56      0.30      0.39     48939\n",
      "       31-40       0.01      0.18      0.01       611\n",
      "       41-50       0.00      0.00      0.00         0\n",
      "       51-60       0.00      0.22      0.00        64\n",
      "       61-70       0.00      0.00      0.00         0\n",
      "       71-80       0.00      0.00      0.00         4\n",
      "       81-90       0.00      0.00      0.00         0\n",
      "      91-100       0.00      0.33      0.00         3\n",
      "        >100       0.00      0.44      0.00         9\n",
      "\n",
      "    accuracy                           0.30     95532\n",
      "   macro avg       0.10      0.18      0.07     95532\n",
      "weighted avg       0.56      0.30      0.39     95532\n",
      "\n"
     ]
    }
   ],
   "source": [
    "print(classification_report(ypred_sig,ytest_sig))"
   ]
  },
  {
   "cell_type": "code",
   "execution_count": 45,
   "id": "6741810f",
   "metadata": {},
   "outputs": [],
   "source": [
    "rf_base = RandomForestClassifier()"
   ]
  },
  {
   "cell_type": "code",
   "execution_count": 46,
   "id": "99e486aa",
   "metadata": {},
   "outputs": [
    {
     "name": "stdout",
     "output_type": "stream",
     "text": [
      "              precision    recall  f1-score   support\n",
      "\n",
      "        0-10       0.18      0.29      0.22      4407\n",
      "       11-20       0.44      0.39      0.42     26735\n",
      "       21-30       0.53      0.41      0.46     34098\n",
      "       31-40       0.26      0.33      0.29     13277\n",
      "       41-50       0.02      0.07      0.03       934\n",
      "       51-60       0.45      0.39      0.42     12262\n",
      "       61-70       0.02      0.11      0.03       154\n",
      "       71-80       0.09      0.26      0.14      1069\n",
      "       81-90       0.18      0.37      0.25       746\n",
      "      91-100       0.05      0.26      0.09       165\n",
      "        >100       0.43      0.50      0.46      1685\n",
      "\n",
      "    accuracy                           0.38     95532\n",
      "   macro avg       0.24      0.31      0.26     95532\n",
      "weighted avg       0.43      0.38      0.40     95532\n",
      "\n"
     ]
    }
   ],
   "source": [
    "x_rf = df_1.drop(['case_id','patientid','Stay'],axis = 1)\n",
    "y_rf = df_1['Stay']\n",
    "\n",
    "xtrain_rf,xtest_rf,ytrain_rf,ytest_rf = train_test_split(x_rf,y_rf,train_size=0.70,random_state = 100)\n",
    "\n",
    "model_rf = rf_base.fit(xtrain_rf,ytrain_rf)\n",
    "ypred_rf = model_rf.predict(xtest_rf)\n",
    "\n",
    "print(classification_report(ypred_rf,ytest_rf))"
   ]
  },
  {
   "cell_type": "code",
   "execution_count": 47,
   "id": "7ce08ca8",
   "metadata": {},
   "outputs": [
    {
     "name": "stdout",
     "output_type": "stream",
     "text": [
      "              precision    recall  f1-score   support\n",
      "\n",
      "        0-10       0.00      0.18      0.00        78\n",
      "       11-20       0.56      0.29      0.39     45316\n",
      "       21-30       0.57      0.30      0.39     49389\n",
      "       31-40       0.01      0.18      0.01       637\n",
      "       41-50       0.00      0.00      0.00         2\n",
      "       51-60       0.00      0.21      0.00        94\n",
      "       61-70       0.00      0.00      0.00         0\n",
      "       71-80       0.00      0.00      0.00         4\n",
      "       81-90       0.00      0.00      0.00         0\n",
      "      91-100       0.00      0.33      0.00         3\n",
      "        >100       0.00      0.44      0.00         9\n",
      "\n",
      "    accuracy                           0.30     95532\n",
      "   macro avg       0.10      0.18      0.07     95532\n",
      "weighted avg       0.56      0.30      0.39     95532\n",
      "\n"
     ]
    }
   ],
   "source": [
    "x_sig_rf = df_1[['Department','Type of Admission','Severity of Illness','Age']]\n",
    "y_sig_rf = df_1['Stay']\n",
    "\n",
    "xtrain_sig_rf,xtest_sig_rf,ytrain_sig_rf,ytest_sig_rf = train_test_split(x_sig_rf,y_sig_rf,train_size=0.70,random_state = 100)\n",
    "\n",
    "rf_sig = RandomForestClassifier()\n",
    "model_sig_rf = rf_sig.fit(xtrain_sig_rf,ytrain_sig_rf)\n",
    "ypred_sig_rf = model_sig_rf.predict(xtest_sig_rf)\n",
    "\n",
    "print(classification_report(ypred_sig_rf,ytest_sig_rf))"
   ]
  },
  {
   "cell_type": "code",
   "execution_count": 48,
   "id": "0dc6fd69",
   "metadata": {},
   "outputs": [
    {
     "data": {
      "text/plain": [
       "array([0.0474983 , 0.0181487 , 0.02315233, 0.00892734, 0.07262566,\n",
       "       0.04163651, 0.04815559, 0.01620357, 0.04078867, 0.09500599,\n",
       "       0.02363562, 0.04338349, 0.08014514, 0.11706405, 0.32362906])"
      ]
     },
     "execution_count": 48,
     "metadata": {},
     "output_type": "execute_result"
    }
   ],
   "source": [
    "dt_base.feature_importances_"
   ]
  },
  {
   "cell_type": "code",
   "execution_count": 49,
   "id": "c70de8c8",
   "metadata": {},
   "outputs": [],
   "source": [
    "features = pd.DataFrame({'Columns':xtrain_base.columns,'Importance':dt_base.feature_importances_})"
   ]
  },
  {
   "cell_type": "code",
   "execution_count": 50,
   "id": "0ebc4528",
   "metadata": {},
   "outputs": [
    {
     "data": {
      "text/html": [
       "<div>\n",
       "<style scoped>\n",
       "    .dataframe tbody tr th:only-of-type {\n",
       "        vertical-align: middle;\n",
       "    }\n",
       "\n",
       "    .dataframe tbody tr th {\n",
       "        vertical-align: top;\n",
       "    }\n",
       "\n",
       "    .dataframe thead th {\n",
       "        text-align: right;\n",
       "    }\n",
       "</style>\n",
       "<table border=\"1\" class=\"dataframe\">\n",
       "  <thead>\n",
       "    <tr style=\"text-align: right;\">\n",
       "      <th></th>\n",
       "      <th>Columns</th>\n",
       "      <th>Importance</th>\n",
       "    </tr>\n",
       "  </thead>\n",
       "  <tbody>\n",
       "    <tr>\n",
       "      <th>14</th>\n",
       "      <td>Admission_Deposit</td>\n",
       "      <td>0.323629</td>\n",
       "    </tr>\n",
       "    <tr>\n",
       "      <th>13</th>\n",
       "      <td>Age</td>\n",
       "      <td>0.117064</td>\n",
       "    </tr>\n",
       "    <tr>\n",
       "      <th>9</th>\n",
       "      <td>City_Code_Patient</td>\n",
       "      <td>0.095006</td>\n",
       "    </tr>\n",
       "    <tr>\n",
       "      <th>12</th>\n",
       "      <td>Visitors with Patient</td>\n",
       "      <td>0.080145</td>\n",
       "    </tr>\n",
       "    <tr>\n",
       "      <th>4</th>\n",
       "      <td>Available Extra Rooms in Hospital</td>\n",
       "      <td>0.072626</td>\n",
       "    </tr>\n",
       "    <tr>\n",
       "      <th>6</th>\n",
       "      <td>Ward_Type</td>\n",
       "      <td>0.048156</td>\n",
       "    </tr>\n",
       "    <tr>\n",
       "      <th>0</th>\n",
       "      <td>Hospital_code</td>\n",
       "      <td>0.047498</td>\n",
       "    </tr>\n",
       "    <tr>\n",
       "      <th>11</th>\n",
       "      <td>Severity of Illness</td>\n",
       "      <td>0.043383</td>\n",
       "    </tr>\n",
       "    <tr>\n",
       "      <th>5</th>\n",
       "      <td>Department</td>\n",
       "      <td>0.041637</td>\n",
       "    </tr>\n",
       "    <tr>\n",
       "      <th>8</th>\n",
       "      <td>Bed Grade</td>\n",
       "      <td>0.040789</td>\n",
       "    </tr>\n",
       "    <tr>\n",
       "      <th>10</th>\n",
       "      <td>Type of Admission</td>\n",
       "      <td>0.023636</td>\n",
       "    </tr>\n",
       "    <tr>\n",
       "      <th>2</th>\n",
       "      <td>City_Code_Hospital</td>\n",
       "      <td>0.023152</td>\n",
       "    </tr>\n",
       "    <tr>\n",
       "      <th>1</th>\n",
       "      <td>Hospital_type_code</td>\n",
       "      <td>0.018149</td>\n",
       "    </tr>\n",
       "    <tr>\n",
       "      <th>7</th>\n",
       "      <td>Ward_Facility_Code</td>\n",
       "      <td>0.016204</td>\n",
       "    </tr>\n",
       "    <tr>\n",
       "      <th>3</th>\n",
       "      <td>Hospital_region_code</td>\n",
       "      <td>0.008927</td>\n",
       "    </tr>\n",
       "  </tbody>\n",
       "</table>\n",
       "</div>"
      ],
      "text/plain": [
       "                              Columns  Importance\n",
       "14                  Admission_Deposit    0.323629\n",
       "13                                Age    0.117064\n",
       "9                   City_Code_Patient    0.095006\n",
       "12              Visitors with Patient    0.080145\n",
       "4   Available Extra Rooms in Hospital    0.072626\n",
       "6                           Ward_Type    0.048156\n",
       "0                       Hospital_code    0.047498\n",
       "11                Severity of Illness    0.043383\n",
       "5                          Department    0.041637\n",
       "8                           Bed Grade    0.040789\n",
       "10                  Type of Admission    0.023636\n",
       "2                  City_Code_Hospital    0.023152\n",
       "1                  Hospital_type_code    0.018149\n",
       "7                  Ward_Facility_Code    0.016204\n",
       "3                Hospital_region_code    0.008927"
      ]
     },
     "execution_count": 50,
     "metadata": {},
     "output_type": "execute_result"
    }
   ],
   "source": [
    "features.sort_values(by = 'Importance',ascending = False)"
   ]
  },
  {
   "cell_type": "code",
   "execution_count": 51,
   "id": "86754a78",
   "metadata": {},
   "outputs": [],
   "source": [
    "important = features[features['Importance']>=0.07]['Columns'].to_list()"
   ]
  },
  {
   "cell_type": "code",
   "execution_count": 52,
   "id": "ff09857e",
   "metadata": {},
   "outputs": [],
   "source": [
    "x_imp = df_1[important]\n",
    "y_imp = df_1['Stay']"
   ]
  },
  {
   "cell_type": "code",
   "execution_count": 53,
   "id": "c9b9f840",
   "metadata": {},
   "outputs": [
    {
     "name": "stdout",
     "output_type": "stream",
     "text": [
      "              precision    recall  f1-score   support\n",
      "\n",
      "        0-10       0.14      0.12      0.13      7790\n",
      "       11-20       0.31      0.30      0.30     24511\n",
      "       21-30       0.34      0.35      0.34     25774\n",
      "       31-40       0.20      0.21      0.20     15934\n",
      "       41-50       0.05      0.05      0.05      3274\n",
      "       51-60       0.24      0.25      0.24     10142\n",
      "       61-70       0.01      0.01      0.01       759\n",
      "       71-80       0.09      0.09      0.09      3046\n",
      "       81-90       0.13      0.14      0.14      1440\n",
      "      91-100       0.03      0.03      0.03       866\n",
      "        >100       0.25      0.25      0.25      1996\n",
      "\n",
      "    accuracy                           0.25     95532\n",
      "   macro avg       0.16      0.16      0.16     95532\n",
      "weighted avg       0.25      0.25      0.25     95532\n",
      "\n"
     ]
    }
   ],
   "source": [
    "xtrain_imp,xtest_imp,ytrain_imp,ytest_imp = train_test_split(x_imp,y_imp,train_size=0.70,random_state = 100)\n",
    "\n",
    "dt_imp = DecisionTreeClassifier()\n",
    "model_imp = dt_imp.fit(xtrain_imp,ytrain_imp)\n",
    "ypred_imp = model_imp.predict(xtest_imp)\n",
    "\n",
    "print(classification_report(ypred_imp,ytest_imp))"
   ]
  },
  {
   "cell_type": "code",
   "execution_count": 54,
   "id": "133a90c1",
   "metadata": {},
   "outputs": [
    {
     "name": "stdout",
     "output_type": "stream",
     "text": [
      "              precision    recall  f1-score   support\n",
      "\n",
      "        0-10       0.13      0.13      0.13      6744\n",
      "       11-20       0.31      0.30      0.30     24246\n",
      "       21-30       0.36      0.35      0.36     27077\n",
      "       31-40       0.20      0.21      0.20     16261\n",
      "       41-50       0.05      0.06      0.05      2965\n",
      "       51-60       0.27      0.26      0.26     10932\n",
      "       61-70       0.01      0.02      0.02       627\n",
      "       71-80       0.09      0.09      0.09      2743\n",
      "       81-90       0.13      0.15      0.14      1222\n",
      "      91-100       0.03      0.04      0.03       686\n",
      "        >100       0.31      0.31      0.31      2029\n",
      "\n",
      "    accuracy                           0.26     95532\n",
      "   macro avg       0.17      0.17      0.17     95532\n",
      "weighted avg       0.27      0.26      0.27     95532\n",
      "\n"
     ]
    }
   ],
   "source": [
    "x_imp_rf = df_1[important]\n",
    "y_imp_rf = df_1['Stay']\n",
    "\n",
    "xtrain_imp_rf,xtest_imp_rf,ytrain_imp_rf,ytest_imp_rf = train_test_split(x_imp_rf,y_imp_rf,train_size=0.70,random_state = 100)\n",
    "\n",
    "rf_imp = RandomForestClassifier()\n",
    "model_rf_imp = rf_imp.fit(xtrain_imp_rf,ytrain_imp_rf)\n",
    "ypred_rf_imp = model_rf_imp.predict(xtest_imp_rf)\n",
    "\n",
    "print(classification_report(ypred_rf_imp,ytest_imp_rf))"
   ]
  },
  {
   "cell_type": "code",
   "execution_count": 55,
   "id": "20f8c998",
   "metadata": {},
   "outputs": [],
   "source": [
    "from imblearn.over_sampling import RandomOverSampler"
   ]
  },
  {
   "cell_type": "code",
   "execution_count": 56,
   "id": "dfc088f7",
   "metadata": {},
   "outputs": [
    {
     "data": {
      "text/plain": [
       "21-30     87491\n",
       "11-20     78139\n",
       "31-40     55159\n",
       "51-60     35018\n",
       "0-10      23604\n",
       "41-50     11743\n",
       "71-80     10254\n",
       ">100       6683\n",
       "81-90      4838\n",
       "91-100     2765\n",
       "61-70      2744\n",
       "Name: Stay, dtype: int64"
      ]
     },
     "execution_count": 56,
     "metadata": {},
     "output_type": "execute_result"
    }
   ],
   "source": [
    "df['Stay'].value_counts()"
   ]
  },
  {
   "cell_type": "code",
   "execution_count": 57,
   "id": "68fa316f",
   "metadata": {},
   "outputs": [],
   "source": [
    "sampling = {'41-50':18743,'71-80':17254,'91-100':12765,'61-70':12644,'>100':9993,'81-90':8893}\n",
    "oversampler = RandomOverSampler(sampling_strategy= sampling)\n",
    "x_resampled, y_resampled = oversampler.fit_resample(xtrain_base,ytrain_base)"
   ]
  },
  {
   "cell_type": "code",
   "execution_count": 58,
   "id": "58d6348a",
   "metadata": {},
   "outputs": [
    {
     "data": {
      "text/plain": [
       "<AxesSubplot:>"
      ]
     },
     "execution_count": 58,
     "metadata": {},
     "output_type": "execute_result"
    },
    {
     "data": {
      "image/png": "[encoded data removed]",
      "text/plain": [
       "<Figure size 640x480 with 1 Axes>"
      ]
     },
     "metadata": {},
     "output_type": "display_data"
    }
   ],
   "source": [
    "y_resampled.value_counts().plot(kind = 'bar')"
   ]
  },
  {
   "cell_type": "code",
   "execution_count": 59,
   "id": "8dd41621",
   "metadata": {},
   "outputs": [
    {
     "name": "stdout",
     "output_type": "stream",
     "text": [
      "              precision    recall  f1-score   support\n",
      "\n",
      "        0-10       0.19      0.19      0.19      7102\n",
      "       11-20       0.34      0.35      0.34     22779\n",
      "       21-30       0.38      0.39      0.38     25644\n",
      "       31-40       0.24      0.24      0.24     16642\n",
      "       41-50       0.07      0.06      0.06      3975\n",
      "       51-60       0.30      0.30      0.30     10446\n",
      "       61-70       0.03      0.03      0.03      1017\n",
      "       71-80       0.16      0.15      0.15      3297\n",
      "       81-90       0.21      0.20      0.21      1576\n",
      "      91-100       0.11      0.09      0.10      1054\n",
      "        >100       0.31      0.31      0.31      2000\n",
      "\n",
      "    accuracy                           0.29     95532\n",
      "   macro avg       0.21      0.21      0.21     95532\n",
      "weighted avg       0.29      0.29      0.29     95532\n",
      "\n"
     ]
    }
   ],
   "source": [
    "model_bal = dt_base.fit(x_resampled, y_resampled)\n",
    "ypred_bal = model_bal.predict(xtest_base)\n",
    "\n",
    "print(classification_report(ypred_bal,ytest_base))"
   ]
  },
  {
   "cell_type": "code",
   "execution_count": 60,
   "id": "75a39b31",
   "metadata": {},
   "outputs": [
    {
     "name": "stdout",
     "output_type": "stream",
     "text": [
      "              precision    recall  f1-score   support\n",
      "\n",
      "        0-10       0.18      0.29      0.22      4328\n",
      "       11-20       0.43      0.39      0.41     26264\n",
      "       21-30       0.52      0.41      0.46     33434\n",
      "       31-40       0.26      0.33      0.29     12852\n",
      "       41-50       0.04      0.08      0.05      1687\n",
      "       51-60       0.41      0.39      0.40     11184\n",
      "       61-70       0.03      0.07      0.05       380\n",
      "       71-80       0.13      0.22      0.17      1906\n",
      "       81-90       0.27      0.32      0.29      1216\n",
      "      91-100       0.08      0.17      0.11       406\n",
      "        >100       0.45      0.47      0.46      1875\n",
      "\n",
      "    accuracy                           0.37     95532\n",
      "   macro avg       0.26      0.29      0.26     95532\n",
      "weighted avg       0.41      0.37      0.39     95532\n",
      "\n"
     ]
    }
   ],
   "source": [
    "model_rf_bal = rf_base.fit(x_resampled, y_resampled)\n",
    "ypred_rf_bal = model_rf_bal.predict(xtest_rf)\n",
    "\n",
    "print(classification_report(ypred_rf_bal,ytest_rf))"
   ]
  },
  {
   "cell_type": "code",
   "execution_count": 61,
   "id": "8087f591",
   "metadata": {},
   "outputs": [],
   "source": [
    "oversampler = RandomOverSampler(sampling_strategy= 'auto')\n",
    "x_resampled_1, y_resampled_1 = oversampler.fit_resample(xtrain_base,ytrain_base)"
   ]
  },
  {
   "cell_type": "code",
   "execution_count": 62,
   "id": "36d2e8a8",
   "metadata": {},
   "outputs": [
    {
     "data": {
      "text/plain": [
       "11-20     61232\n",
       "0-10      61232\n",
       "71-80     61232\n",
       "21-30     61232\n",
       "51-60     61232\n",
       "31-40     61232\n",
       "61-70     61232\n",
       ">100      61232\n",
       "41-50     61232\n",
       "81-90     61232\n",
       "91-100    61232\n",
       "Name: Stay, dtype: int64"
      ]
     },
     "execution_count": 62,
     "metadata": {},
     "output_type": "execute_result"
    }
   ],
   "source": [
    "y_resampled_1.value_counts()"
   ]
  },
  {
   "cell_type": "code",
   "execution_count": 63,
   "id": "3fce0761",
   "metadata": {},
   "outputs": [
    {
     "name": "stdout",
     "output_type": "stream",
     "text": [
      "              precision    recall  f1-score   support\n",
      "\n",
      "        0-10       0.19      0.19      0.19      7322\n",
      "       11-20       0.33      0.35      0.34     22451\n",
      "       21-30       0.37      0.39      0.38     25311\n",
      "       31-40       0.24      0.24      0.24     16446\n",
      "       41-50       0.07      0.06      0.06      4020\n",
      "       51-60       0.31      0.30      0.31     10869\n",
      "       61-70       0.04      0.03      0.03       974\n",
      "       71-80       0.15      0.13      0.14      3394\n",
      "       81-90       0.22      0.21      0.21      1593\n",
      "      91-100       0.09      0.07      0.08       995\n",
      "        >100       0.34      0.31      0.32      2157\n",
      "\n",
      "    accuracy                           0.29     95532\n",
      "   macro avg       0.21      0.21      0.21     95532\n",
      "weighted avg       0.29      0.29      0.29     95532\n",
      "\n"
     ]
    }
   ],
   "source": [
    "model_bal_1 = dt_base.fit(x_resampled_1, y_resampled_1)\n",
    "ypred_bal_1 = model_bal_1.predict(xtest_base)\n",
    "\n",
    "print(classification_report(ypred_bal_1,ytest_base))"
   ]
  },
  {
   "cell_type": "code",
   "execution_count": 64,
   "id": "f0ede796",
   "metadata": {},
   "outputs": [
    {
     "name": "stdout",
     "output_type": "stream",
     "text": [
      "              precision    recall  f1-score   support\n",
      "\n",
      "        0-10       0.26      0.25      0.26      7184\n",
      "       11-20       0.41      0.39      0.40     24353\n",
      "       21-30       0.48      0.42      0.44     29871\n",
      "       31-40       0.25      0.31      0.28     13408\n",
      "       41-50       0.04      0.07      0.06      2083\n",
      "       51-60       0.46      0.37      0.41     13153\n",
      "       61-70       0.03      0.09      0.05       313\n",
      "       71-80       0.13      0.21      0.16      1828\n",
      "       81-90       0.25      0.33      0.28      1113\n",
      "      91-100       0.08      0.22      0.12       303\n",
      "        >100       0.45      0.46      0.46      1923\n",
      "\n",
      "    accuracy                           0.36     95532\n",
      "   macro avg       0.26      0.29      0.26     95532\n",
      "weighted avg       0.39      0.36      0.37     95532\n",
      "\n"
     ]
    }
   ],
   "source": [
    "model_rf_bal_1 = rf_base.fit(x_resampled_1, y_resampled_1)\n",
    "ypred_rf_bal_1 = model_rf_bal_1.predict(xtest_rf)\n",
    "\n",
    "print(classification_report(ypred_rf_bal_1,ytest_rf))"
   ]
  },
  {
   "cell_type": "code",
   "execution_count": 65,
   "id": "440a6c6b",
   "metadata": {},
   "outputs": [
    {
     "name": "stdout",
     "output_type": "stream",
     "text": [
      "              precision    recall  f1-score   support\n",
      "\n",
      "        0-10       0.08      0.15      0.10      3672\n",
      "       11-20       0.46      0.31      0.37     34331\n",
      "       21-30       0.53      0.31      0.39     45831\n",
      "       31-40       0.09      0.19      0.12      7312\n",
      "       41-50       0.01      0.08      0.02       501\n",
      "       51-60       0.05      0.17      0.07      2741\n",
      "       61-70       0.00      0.04      0.01        69\n",
      "       71-80       0.01      0.10      0.02       418\n",
      "       81-90       0.01      0.11      0.02       177\n",
      "      91-100       0.01      0.06      0.01        86\n",
      "        >100       0.04      0.22      0.07       394\n",
      "\n",
      "    accuracy                           0.29     95532\n",
      "   macro avg       0.12      0.16      0.11     95532\n",
      "weighted avg       0.43      0.29      0.34     95532\n",
      "\n"
     ]
    }
   ],
   "source": [
    "x_sig_1 = df_1[['Department','Type of Admission','Severity of Illness','Age','City_Code_Patient','City_Code_Hospital']]\n",
    "y_sig_1 = df_1['Stay']\n",
    "\n",
    "xtrain_sig_1,xtest_sig_1,ytrain_sig_1,ytest_sig_1 = train_test_split(x_sig_1,y_sig_1,train_size=0.70,random_state = 100)\n",
    "\n",
    "dt_sig_1 = DecisionTreeClassifier()\n",
    "model_sig_1 = dt_sig_1.fit(xtrain_sig_1,ytrain_sig_1)\n",
    "ypred_sig_1 = model_sig_1.predict(xtest_sig_1)\n",
    "\n",
    "print(classification_report(ypred_sig_1,ytest_sig_1))"
   ]
  },
  {
   "cell_type": "code",
   "execution_count": 66,
   "id": "18ceb4c1",
   "metadata": {},
   "outputs": [
    {
     "name": "stdout",
     "output_type": "stream",
     "text": [
      "              precision    recall  f1-score   support\n",
      "\n",
      "        0-10       0.05      0.15      0.07      2290\n",
      "       11-20       0.43      0.32      0.36     31556\n",
      "       21-30       0.55      0.31      0.39     46803\n",
      "       31-40       0.10      0.19      0.13      8811\n",
      "       41-50       0.02      0.09      0.03       700\n",
      "       51-60       0.06      0.17      0.09      3816\n",
      "       61-70       0.01      0.09      0.02       101\n",
      "       71-80       0.02      0.11      0.03       589\n",
      "       81-90       0.02      0.11      0.03       218\n",
      "      91-100       0.01      0.06      0.01       123\n",
      "        >100       0.06      0.21      0.09       525\n",
      "\n",
      "    accuracy                           0.29     95532\n",
      "   macro avg       0.12      0.16      0.12     95532\n",
      "weighted avg       0.42      0.29      0.33     95532\n",
      "\n"
     ]
    }
   ],
   "source": [
    "x_sig_1_rf = df_1[['Department','Type of Admission','Severity of Illness','Age','City_Code_Patient','City_Code_Hospital']]\n",
    "y_sig_1_rf = df_1['Stay']\n",
    "\n",
    "xtrain_sig_1_rf,xtest_sig_1_rf,ytrain_sig_1_rf,ytest_sig_1_rf = train_test_split(x_sig_1_rf,y_sig_1_rf,train_size=0.70,random_state = 100)\n",
    "\n",
    "rf_sig_1 = RandomForestClassifier()\n",
    "model_sig_1_rf = rf_sig_1.fit(xtrain_sig_1_rf,ytrain_sig_1_rf)\n",
    "ypred_sig_1_rf = model_sig_1_rf.predict(xtest_sig_1_rf)\n",
    "\n",
    "print(classification_report(ypred_sig_1_rf,ytest_sig_1_rf))"
   ]
  },
  {
   "cell_type": "code",
   "execution_count": 99,
   "id": "8c1b0c9a",
   "metadata": {},
   "outputs": [],
   "source": [
    "x_new = df[['Department','Type of Admission','Severity of Illness','Age_fe','City_Code_Patient_fe']]\n",
    "y_new = df['Stay']"
   ]
  },
  {
   "cell_type": "code",
   "execution_count": 103,
   "id": "037c43a8",
   "metadata": {},
   "outputs": [],
   "source": [
    "x_new = pd.get_dummies(x_new)"
   ]
  },
  {
   "cell_type": "code",
   "execution_count": 104,
   "id": "ca976c37",
   "metadata": {},
   "outputs": [],
   "source": [
    "xtrain_new,xtest_new,ytrain_new,ytest_new = train_test_split(x_new,y_new,train_size=0.70,random_state = 100)"
   ]
  },
  {
   "cell_type": "code",
   "execution_count": 105,
   "id": "9c622574",
   "metadata": {},
   "outputs": [
    {
     "name": "stdout",
     "output_type": "stream",
     "text": [
      "              precision    recall  f1-score   support\n",
      "\n",
      "        0-10       0.00      0.15      0.00        73\n",
      "       11-20       0.57      0.29      0.39     45718\n",
      "       21-30       0.56      0.30      0.39     49551\n",
      "       31-40       0.00      0.16      0.00        83\n",
      "       41-50       0.00      0.00      0.00         9\n",
      "       51-60       0.00      0.16      0.00        91\n",
      "       61-70       0.00      0.00      0.00         0\n",
      "       71-80       0.00      0.50      0.00         2\n",
      "       81-90       0.00      0.00      0.00         0\n",
      "      91-100       0.00      0.00      0.00         0\n",
      "        >100       0.00      0.20      0.00         5\n",
      "\n",
      "    accuracy                           0.30     95532\n",
      "   macro avg       0.10      0.16      0.07     95532\n",
      "weighted avg       0.57      0.30      0.39     95532\n",
      "\n"
     ]
    }
   ],
   "source": [
    "dt_new = DecisionTreeClassifier()\n",
    "model_new = dt_new.fit(xtrain_new,ytrain_new)\n",
    "ypred_new = model_new.predict(xtest_new)\n",
    "\n",
    "print(classification_report(ypred_new,ytest_new))"
   ]
  },
  {
   "cell_type": "code",
   "execution_count": 107,
   "id": "5f1a3ed7",
   "metadata": {},
   "outputs": [
    {
     "name": "stdout",
     "output_type": "stream",
     "text": [
      "              precision    recall  f1-score   support\n",
      "\n",
      "        0-10       0.00      0.15      0.00        46\n",
      "       11-20       0.57      0.29      0.39     45450\n",
      "       21-30       0.57      0.30      0.39     49809\n",
      "       31-40       0.00      0.17      0.00        89\n",
      "       41-50       0.00      0.00      0.00        14\n",
      "       51-60       0.00      0.16      0.00       111\n",
      "       61-70       0.00      0.00      0.00         0\n",
      "       71-80       0.00      0.12      0.00         8\n",
      "       81-90       0.00      0.00      0.00         0\n",
      "      91-100       0.00      0.00      0.00         0\n",
      "        >100       0.00      0.20      0.00         5\n",
      "\n",
      "    accuracy                           0.30     95532\n",
      "   macro avg       0.10      0.13      0.07     95532\n",
      "weighted avg       0.56      0.30      0.39     95532\n",
      "\n"
     ]
    }
   ],
   "source": [
    "rf_new = RandomForestClassifier()\n",
    "model_new_rf = rf_new.fit(xtrain_new,ytrain_new)\n",
    "ypred_new_rf = model_new_rf.predict(xtest_new)\n",
    "\n",
    "print(classification_report(ypred_new_rf,ytest_new))"
   ]
  },
  {
   "cell_type": "code",
   "execution_count": 114,
   "id": "620c54f3",
   "metadata": {},
   "outputs": [],
   "source": [
    "x_base_new = df.drop(['Age','City_Code_Patient','Stay','case_id','patientid','Admission_Deposit'],axis = 1)"
   ]
  },
  {
   "cell_type": "code",
   "execution_count": 118,
   "id": "23b4c3a8",
   "metadata": {},
   "outputs": [],
   "source": [
    "y_base_new = df['Stay']"
   ]
  },
  {
   "cell_type": "code",
   "execution_count": 116,
   "id": "51fef393",
   "metadata": {},
   "outputs": [],
   "source": [
    "le = LabelEncoder()\n",
    "for i in x_base_new.columns:\n",
    "    x_base_new[i] = le.fit_transform(x_base_new[i])"
   ]
  },
  {
   "cell_type": "code",
   "execution_count": 120,
   "id": "29060148",
   "metadata": {},
   "outputs": [],
   "source": [
    "xtrain_base_new,xtest_base_new,ytrain_base_new,ytest_base_new = train_test_split(x_base_new,y_base_new,train_size = 0.70,random_state = 100)"
   ]
  },
  {
   "cell_type": "code",
   "execution_count": 122,
   "id": "a859dd5b",
   "metadata": {},
   "outputs": [
    {
     "name": "stdout",
     "output_type": "stream",
     "text": [
      "              precision    recall  f1-score   support\n",
      "\n",
      "        0-10       0.18      0.18      0.18      7228\n",
      "       11-20       0.42      0.35      0.38     28153\n",
      "       21-30       0.46      0.40      0.43     30331\n",
      "       31-40       0.23      0.30      0.26     12850\n",
      "       41-50       0.03      0.06      0.04      1729\n",
      "       51-60       0.33      0.37      0.35      9338\n",
      "       61-70       0.03      0.06      0.04       385\n",
      "       71-80       0.13      0.18      0.15      2101\n",
      "       81-90       0.21      0.26      0.23      1157\n",
      "      91-100       0.09      0.13      0.11       553\n",
      "        >100       0.35      0.41      0.38      1707\n",
      "\n",
      "    accuracy                           0.34     95532\n",
      "   macro avg       0.22      0.25      0.23     95532\n",
      "weighted avg       0.36      0.34      0.35     95532\n",
      "\n"
     ]
    }
   ],
   "source": [
    "dt_base_new = DecisionTreeClassifier()\n",
    "model_base_new = dt_base_new.fit(xtrain_base_new,ytrain_base_new)\n",
    "ypred_base_new = model_base_new.predict(xtest_base_new)\n",
    "\n",
    "print(classification_report(ypred_base_new,ytest_base_new))"
   ]
  },
  {
   "cell_type": "code",
   "execution_count": 123,
   "id": "9f7e7158",
   "metadata": {},
   "outputs": [
    {
     "name": "stdout",
     "output_type": "stream",
     "text": [
      "              precision    recall  f1-score   support\n",
      "\n",
      "        0-10       0.13      0.21      0.16      4322\n",
      "       11-20       0.41      0.37      0.39     26032\n",
      "       21-30       0.52      0.40      0.45     33789\n",
      "       31-40       0.24      0.30      0.27     13367\n",
      "       41-50       0.03      0.08      0.04      1376\n",
      "       51-60       0.40      0.37      0.38     11436\n",
      "       61-70       0.03      0.08      0.04       281\n",
      "       71-80       0.11      0.20      0.15      1726\n",
      "       81-90       0.21      0.29      0.24      1052\n",
      "      91-100       0.08      0.18      0.11       367\n",
      "        >100       0.40      0.44      0.42      1784\n",
      "\n",
      "    accuracy                           0.36     95532\n",
      "   macro avg       0.23      0.27      0.24     95532\n",
      "weighted avg       0.40      0.36      0.37     95532\n",
      "\n"
     ]
    }
   ],
   "source": [
    "rf_base_new = RandomForestClassifier()\n",
    "model_base_new_rf = rf_base_new.fit(xtrain_base_new,ytrain_base_new)\n",
    "ypred_base_new_rf = model_base_new_rf.predict(xtest_base_new)\n",
    "\n",
    "print(classification_report(ypred_base_new_rf,ytest_base_new))"
   ]
  }
 ],
 "metadata": {
  "kernelspec": {
   "display_name": "Python 3 (ipykernel)",
   "language": "python",
   "name": "python3"
  },
  "language_info": {
   "codemirror_mode": {
    "name": "ipython",
    "version": 3
   },
   "file_extension": ".py",
   "mimetype": "text/x-python",
   "name": "python",
   "nbconvert_exporter": "python",
   "pygments_lexer": "ipython3",
   "version": "3.9.13"
  }
 },
 "nbformat": 4,
 "nbformat_minor": 5
}
